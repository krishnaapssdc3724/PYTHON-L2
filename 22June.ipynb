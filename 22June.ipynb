{
 "cells": [
  {
   "cell_type": "markdown",
   "metadata": {},
   "source": [
    "# Date : 22 June 2019\n",
    "\n",
    "### Day objectives\n",
    "- File Handling\n",
    "    - Basic File Data Processing\n",
    "        - Accessing and modifying\n",
    "    - Character Count\n",
    "    - Line Count\n",
    "    - File Size\n",
    "    - Word count\n",
    "    - unique Word Count"
   ]
  },
  {
   "cell_type": "code",
   "execution_count": 17,
   "metadata": {},
   "outputs": [
    {
     "name": "stdout",
     "output_type": "stream",
     "text": [
      "new data\n",
      "Line2 \n",
      "Line3\n",
      "Harish\n",
      "nuzivedu\n"
     ]
    }
   ],
   "source": [
    "# Read  File - File Should exist(Read mode)\n",
    "# Write to a file - Existing(append mode) or New File(write mode)\n",
    "\n",
    "def readfile(filepath):\n",
    "    with open(filepath,'r') as f:\n",
    "        #print(type(f))\n",
    "        filedata= f.read() # Reads the entire file\n",
    "    return filedata    \n",
    "\n",
    "filepath = 'DataFiles/data.txt'\n",
    "print(readfile(filepath))\n"
   ]
  },
  {
   "cell_type": "code",
   "execution_count": 11,
   "metadata": {},
   "outputs": [
    {
     "name": "stdout",
     "output_type": "stream",
     "text": [
      "total number of characters: 17\n"
     ]
    }
   ],
   "source": [
    "# Find the character count\n",
    " \n",
    "def charactercount(filepath):\n",
    "    count = 0\n",
    "    with open(filepath,'r') as f:\n",
    "        filepath = 'DataFiles/data.txt'\n",
    "        filedata = f.read()\n",
    "        for i in filedata:\n",
    "            if i.isspace() != True:\n",
    "                 count = count + 1\n",
    "        print(\"total number of characters:\", count)\n",
    "     \n",
    "    \n",
    "charactercount(filepath)"
   ]
  },
  {
   "cell_type": "code",
   "execution_count": 18,
   "metadata": {},
   "outputs": [
    {
     "name": "stdout",
     "output_type": "stream",
     "text": [
      "37\n"
     ]
    }
   ],
   "source": [
    "# Char count\n",
    "\n",
    "def charcount(filepath):\n",
    "    with open(filepath,'r') as f:\n",
    "        char=0\n",
    "        for i in f:\n",
    "            for j in i:\n",
    "                char = char+1\n",
    "        print(char)\n",
    "        \n",
    "filepath = 'DataFiles/data.txt'\n",
    "charcount(filepath)"
   ]
  },
  {
   "cell_type": "code",
   "execution_count": 16,
   "metadata": {},
   "outputs": [
    {
     "name": "stdout",
     "output_type": "stream",
     "text": [
      "5\n"
     ]
    }
   ],
   "source": [
    "\n",
    "# Line count\n",
    "\n",
    "def Charcount(filepath):\n",
    "    with open(filepath, 'r') as f:\n",
    "        char = 0\n",
    "        for i in f:\n",
    "            char=char+1\n",
    "        print(char)\n",
    "        \n",
    "filepath='DataFiles/data.txt'\n",
    "Charcount(filepath)\n",
    "    "
   ]
  },
  {
   "cell_type": "code",
   "execution_count": 20,
   "metadata": {},
   "outputs": [
    {
     "name": "stdout",
     "output_type": "stream",
     "text": [
      "6\n"
     ]
    }
   ],
   "source": [
    "# Word count\n",
    "\n",
    "def Wordcount(filepath):\n",
    "    with open(filepath, 'r') as f:\n",
    "        s = f.read().split()\n",
    "        print(len(s))\n",
    "        \n",
    "filepath='DataFiles/data.txt'\n",
    "Wordcount(filepath)"
   ]
  },
  {
   "cell_type": "code",
   "execution_count": 21,
   "metadata": {},
   "outputs": [
    {
     "name": "stdout",
     "output_type": "stream",
     "text": [
      "total Filesize: 1406 bytes\n"
     ]
    }
   ],
   "source": [
    "# Size of a file\n",
    "\n",
    "def Filesize(filepath):\n",
    "    size=37\n",
    "    with open(filepath, 'r') as f:\n",
    "        filepath = 'DataFile/Data.txt'\n",
    "        filedata= f.read()\n",
    "        for i in filedata:\n",
    "            size=size+37\n",
    "        print(\"total Filesize:\",size,'bytes')\n",
    "        \n",
    "Filesize(filepath)"
   ]
  },
  {
   "cell_type": "code",
   "execution_count": 33,
   "metadata": {},
   "outputs": [
    {
     "name": "stdout",
     "output_type": "stream",
     "text": [
      "{'new': 3, 'data': 2, 'Line2': 1, 'Line3': 1, 'Harish': 1, 'nuzivedu': 1}\n"
     ]
    }
   ],
   "source": [
    "# Count unique word\n",
    "\n",
    "def Uniquecount(filepath):\n",
    "    count = {}\n",
    "    with open(filepath, 'r') as f:\n",
    "        filedata =  f.read()\n",
    "        li = filedata.split()\n",
    "        for i in li:\n",
    "            if i in count:\n",
    "                count[i] += 1\n",
    "            else:\n",
    "                count[i] = 1\n",
    "                \n",
    "    print(count)\n",
    "filepath = 'DataFiles/data.txt'\n",
    "Uniquecount(filepath)    "
   ]
  },
  {
   "cell_type": "code",
   "execution_count": null,
   "metadata": {},
   "outputs": [],
   "source": [
    " "
   ]
  },
  {
   "cell_type": "code",
   "execution_count": null,
   "metadata": {},
   "outputs": [],
   "source": []
  },
  {
   "cell_type": "code",
   "execution_count": 6,
   "metadata": {},
   "outputs": [
    {
     "data": {
      "text/plain": [
       "[1, 2, 3]"
      ]
     },
     "execution_count": 6,
     "metadata": {},
     "output_type": "execute_result"
    }
   ],
   "source": [
    "# Function to get unique elements in a list\n",
    "\n",
    "# [1,2,3,3,2,1] -> [1,2,3]\n",
    "\n",
    "def uniqueData(li):\n",
    "    # Create an empty unique list\n",
    "    unique = []\n",
    "\n",
    "    # For every element in the main list,\n",
    "        # check if it exists in the uniquelist.\n",
    "        #\n",
    "        \n",
    "        \n",
    "        \n",
    "      \n",
    "    for element in li:\n",
    "            if element not in unique:\n",
    "                unique.append(element)\n",
    "    return unique\n",
    "    \n",
    "li = [1,2,3,3,2,1]\n",
    "\n",
    "uniqueData(li)\n",
    "      \n",
    "    \n",
    "        \n",
    "    "
   ]
  },
  {
   "cell_type": "code",
   "execution_count": null,
   "metadata": {},
   "outputs": [],
   "source": []
  },
  {
   "cell_type": "code",
   "execution_count": 1,
   "metadata": {},
   "outputs": [
    {
     "name": "stdout",
     "output_type": "stream",
     "text": [
      "new : 3\n",
      "data : 2\n",
      "Line2 : 1\n",
      "Line3 : 1\n",
      "Harish : 2\n",
      "nuzivedu : 1\n",
      "Data : 1\n",
      "Ramadevi : 1\n"
     ]
    }
   ],
   "source": [
    "# Function to print the frequency count of \n",
    "# Frequency Distribution\n",
    "\n",
    "# Data in Line 1\n",
    "# Data in Line 2\n",
    "# Data in Line 3\n",
    "# O/P\n",
    "# Data : 3\n",
    "# in : 3\n",
    "# Line : 3\n",
    "# 1 : 1 \n",
    "# 2 : 1\n",
    "# 3 : 1\n",
    "\n",
    "\n",
    "def FreqDistributionofWords(filepath):\n",
    "    c=0\n",
    "    Unique=[]\n",
    "    with open(filepath,'r') as f:\n",
    "        filedata = f.read().split()\n",
    "        for i in filedata:\n",
    "            s = i\n",
    "            if s not in Unique:\n",
    "                Unique.append(s)\n",
    "                for j in filedata:\n",
    "                    if s == j:\n",
    "                        c = c+1\n",
    "                print(s,':',c)\n",
    "                c = 0\n",
    "    return\n",
    "filepath = 'DataFiles/data.txt'\n",
    "FreqDistributionofWords(filepath)\n",
    "\n",
    "\n",
    "\n",
    "\n",
    "\n",
    "\n",
    " "
   ]
  },
  {
   "cell_type": "code",
   "execution_count": null,
   "metadata": {},
   "outputs": [],
   "source": [
    "\n",
    " \n",
    "    "
   ]
  },
  {
   "cell_type": "code",
   "execution_count": 6,
   "metadata": {},
   "outputs": [],
   "source": []
  },
  {
   "cell_type": "code",
   "execution_count": null,
   "metadata": {},
   "outputs": [],
   "source": []
  }
 ],
 "metadata": {
  "kernelspec": {
   "display_name": "Python 3",
   "language": "python",
   "name": "python3"
  },
  "language_info": {
   "codemirror_mode": {
    "name": "ipython",
    "version": 3
   },
   "file_extension": ".py",
   "mimetype": "text/x-python",
   "name": "python",
   "nbconvert_exporter": "python",
   "pygments_lexer": "ipython3",
   "version": "3.7.3"
  }
 },
 "nbformat": 4,
 "nbformat_minor": 2
}
