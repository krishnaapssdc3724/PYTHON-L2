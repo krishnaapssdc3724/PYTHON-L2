{
 "cells": [
  {
   "cell_type": "code",
   "execution_count": 1,
   "metadata": {},
   "outputs": [],
   "source": [
    "#Creating a file and writing something into it\n",
    "filepath='krishna/firstfile.txt'\n",
    "with open(filepath,'w') as f:\n",
    "    f.write(\"GoodMorning!HappyBirthday!\\n\")\n",
    "    f.write('This is my SecondLine')"
   ]
  },
  {
   "cell_type": "code",
   "execution_count": 6,
   "metadata": {},
   "outputs": [
    {
     "name": "stdout",
     "output_type": "stream",
     "text": [
      "GoodMorning!HappyBirthday!\n",
      "This is my SecondLine\n",
      "Hai Pavan\n",
      "Hello friend\n",
      "<class 'str'>\n"
     ]
    }
   ],
   "source": [
    "#Read data from file\n",
    "with open(filepath,'r') as f:\n",
    "    s = f.read()#Reads all the lines in the file\n",
    "    print(s)\n",
    "    print(type(s))\n"
   ]
  },
  {
   "cell_type": "code",
   "execution_count": 11,
   "metadata": {},
   "outputs": [
    {
     "name": "stdout",
     "output_type": "stream",
     "text": [
      "5\n"
     ]
    }
   ],
   "source": [
    "#Read numbers from a file and sum them up\n",
    "with open(filepath,'r') as f:\n",
    "    s = 0\n",
    "    c = 0\n",
    "    for i in f:\n",
    "        s += int(i)\n",
    "        c+=1\n",
    "    #print(s//c)\n",
    "    print(int(s/c))\n",
    "    \n",
    "    "
   ]
  },
  {
   "cell_type": "code",
   "execution_count": 14,
   "metadata": {},
   "outputs": [
    {
     "name": "stdout",
     "output_type": "stream",
     "text": [
      "9\n"
     ]
    }
   ],
   "source": [
    "#Count the number of lines\n",
    "with open(filepath,'r') as f:\n",
    "    linecount = 0\n",
    "    for i in f:\n",
    "        linecount+=1\n",
    "    print(linecount)\n",
    "    \n"
   ]
  },
  {
   "cell_type": "code",
   "execution_count": 18,
   "metadata": {},
   "outputs": [
    {
     "name": "stdout",
     "output_type": "stream",
     "text": [
      "86\n"
     ]
    }
   ],
   "source": [
    "# Count number of words in a file\n",
    "with open(filepath,'r') as f:\n",
    "    wordcount = 0\n",
    "    for i in f:\n",
    "        l =i.split(\" \")\n",
    "        wordcount += len(l)\n",
    "    print(wordcount)"
   ]
  },
  {
   "cell_type": "code",
   "execution_count": 19,
   "metadata": {},
   "outputs": [
    {
     "name": "stdout",
     "output_type": "stream",
     "text": [
      "['Python', 'is', 'an', 'easy', 'to', 'learn,', 'powerful', 'programming', 'language.\\nIt', 'has', 'efficient', 'high-level', 'data', 'structures', 'and', 'a', 'simple', 'but', 'effective', 'approach', 'to', 'object-oriented', 'programming.\\nPythonâ€™s', 'elegant', 'syntax', 'and', 'dynamic', 'typing,', 'together', 'with', 'its', 'interpreted', 'nature,', 'make', 'it', 'an', 'ideal', 'language', 'for', 'scripting', 'and', 'rapid', 'application', 'development', 'in', 'many', 'areas', 'on', 'most', 'platforms.\\nThe', 'Python', 'interpreter', 'is', 'easily', 'extended', 'with', 'new', 'functions', 'and', 'data', 'types', 'implemented', 'in', 'C', 'or', 'C++', '(or', 'other', 'languages', 'callable', 'from', 'C).', 'Python', 'is', 'also', 'suitable', 'as', 'an', 'extension', 'language', 'for', 'customizable', 'applications.']\n"
     ]
    }
   ],
   "source": [
    "with open(filepath,'r') as f:\n",
    "    s = f.read().split(\" \")\n",
    "    print(s)"
   ]
  },
  {
   "cell_type": "code",
   "execution_count": 20,
   "metadata": {},
   "outputs": [
    {
     "name": "stdout",
     "output_type": "stream",
     "text": [
      "['Python is an easy to learn, powerful programming language.\\n', 'It has efficient high-level data structures and a simple but effective approach to object-oriented programming.\\n', 'Pythonâ€™s elegant syntax and dynamic typing, together with its interpreted nature, make it an ideal language for scripting and rapid application development in many areas on most platforms.\\n', 'The Python interpreter is easily extended with new functions and data types implemented in C or C++ (or other languages callable from C). Python is also suitable as an extension language for customizable applications.']\n"
     ]
    }
   ],
   "source": [
    "with open(filepath,'r') as f:\n",
    "    s = f.readlines( )\n",
    "    print(s)"
   ]
  },
  {
   "cell_type": "code",
   "execution_count": 23,
   "metadata": {},
   "outputs": [
    {
     "name": "stdout",
     "output_type": "stream",
     "text": [
      "['Python', 'is', 'an', 'easy', 'to', 'learn,', 'powerful', 'programming', 'language.', 'It', 'has', 'efficient', 'high-level', 'data', 'structures', 'and', 'a', 'simple', 'but', 'effective', 'approach', 'to', 'object-oriented', 'programming.', 'Pythonâ€™s', 'elegant', 'syntax', 'and', 'dynamic', 'typing,', 'together', 'with', 'its', 'interpreted', 'nature,', 'make', 'it', 'an', 'ideal', 'language', 'for', 'scripting', 'and', 'rapid', 'application', 'development', 'in', 'many', 'areas', 'on', 'most', 'platforms.', 'The', 'Python', 'interpreter', 'is', 'easily', 'extended', 'with', 'new', 'functions', 'and', 'data', 'types', 'implemented', 'in', 'C', 'or', 'C++', '(or', 'other', 'languages', 'callable', 'from', 'C).', 'Python', 'is', 'also', 'suitable', 'as', 'an', 'extension', 'language', 'for', 'customizable', 'applications.']\n"
     ]
    }
   ],
   "source": [
    "with open(filepath,'r') as f:\n",
    "    s = f.read().split('\\n')\n",
    "    s = \" \".join(s).split(\" \")\n",
    "    print(s)"
   ]
  },
  {
   "cell_type": "code",
   "execution_count": 24,
   "metadata": {},
   "outputs": [
    {
     "data": {
      "text/plain": [
       "'Krishna  is Programmer'"
      ]
     },
     "execution_count": 24,
     "metadata": {},
     "output_type": "execute_result"
    }
   ],
   "source": [
    "l = ['Krishna ' ,'is','Programmer']\n",
    "s=\" \".join(l)\n",
    "s"
   ]
  },
  {
   "cell_type": "code",
   "execution_count": 25,
   "metadata": {},
   "outputs": [
    {
     "name": "stdout",
     "output_type": "stream",
     "text": [
      "['P', 'y', 't', 'h', 'o', 'n', ' ', 'i', 's', ' ', 'a', 'n', ' ', 'e', 'a', 's', 'y', ' ', 't', 'o', ' ', 'l', 'e', 'a', 'r', 'n', ',', ' ', 'p', 'o', 'w', 'e', 'r', 'f', 'u', 'l', ' ', 'p', 'r', 'o', 'g', 'r', 'a', 'm', 'm', 'i', 'n', 'g', ' ', 'l', 'a', 'n', 'g', 'u', 'a', 'g', 'e', '.', '\\n']\n",
      "['I', 't', ' ', 'h', 'a', 's', ' ', 'e', 'f', 'f', 'i', 'c', 'i', 'e', 'n', 't', ' ', 'h', 'i', 'g', 'h', '-', 'l', 'e', 'v', 'e', 'l', ' ', 'd', 'a', 't', 'a', ' ', 's', 't', 'r', 'u', 'c', 't', 'u', 'r', 'e', 's', ' ', 'a', 'n', 'd', ' ', 'a', ' ', 's', 'i', 'm', 'p', 'l', 'e', ' ', 'b', 'u', 't', ' ', 'e', 'f', 'f', 'e', 'c', 't', 'i', 'v', 'e', ' ', 'a', 'p', 'p', 'r', 'o', 'a', 'c', 'h', ' ', 't', 'o', ' ', 'o', 'b', 'j', 'e', 'c', 't', '-', 'o', 'r', 'i', 'e', 'n', 't', 'e', 'd', ' ', 'p', 'r', 'o', 'g', 'r', 'a', 'm', 'm', 'i', 'n', 'g', '.', '\\n']\n",
      "['P', 'y', 't', 'h', 'o', 'n', 'â', '€', '™', 's', ' ', 'e', 'l', 'e', 'g', 'a', 'n', 't', ' ', 's', 'y', 'n', 't', 'a', 'x', ' ', 'a', 'n', 'd', ' ', 'd', 'y', 'n', 'a', 'm', 'i', 'c', ' ', 't', 'y', 'p', 'i', 'n', 'g', ',', ' ', 't', 'o', 'g', 'e', 't', 'h', 'e', 'r', ' ', 'w', 'i', 't', 'h', ' ', 'i', 't', 's', ' ', 'i', 'n', 't', 'e', 'r', 'p', 'r', 'e', 't', 'e', 'd', ' ', 'n', 'a', 't', 'u', 'r', 'e', ',', ' ', 'm', 'a', 'k', 'e', ' ', 'i', 't', ' ', 'a', 'n', ' ', 'i', 'd', 'e', 'a', 'l', ' ', 'l', 'a', 'n', 'g', 'u', 'a', 'g', 'e', ' ', 'f', 'o', 'r', ' ', 's', 'c', 'r', 'i', 'p', 't', 'i', 'n', 'g', ' ', 'a', 'n', 'd', ' ', 'r', 'a', 'p', 'i', 'd', ' ', 'a', 'p', 'p', 'l', 'i', 'c', 'a', 't', 'i', 'o', 'n', ' ', 'd', 'e', 'v', 'e', 'l', 'o', 'p', 'm', 'e', 'n', 't', ' ', 'i', 'n', ' ', 'm', 'a', 'n', 'y', ' ', 'a', 'r', 'e', 'a', 's', ' ', 'o', 'n', ' ', 'm', 'o', 's', 't', ' ', 'p', 'l', 'a', 't', 'f', 'o', 'r', 'm', 's', '.', '\\n']\n",
      "['T', 'h', 'e', ' ', 'P', 'y', 't', 'h', 'o', 'n', ' ', 'i', 'n', 't', 'e', 'r', 'p', 'r', 'e', 't', 'e', 'r', ' ', 'i', 's', ' ', 'e', 'a', 's', 'i', 'l', 'y', ' ', 'e', 'x', 't', 'e', 'n', 'd', 'e', 'd', ' ', 'w', 'i', 't', 'h', ' ', 'n', 'e', 'w', ' ', 'f', 'u', 'n', 'c', 't', 'i', 'o', 'n', 's', ' ', 'a', 'n', 'd', ' ', 'd', 'a', 't', 'a', ' ', 't', 'y', 'p', 'e', 's', ' ', 'i', 'm', 'p', 'l', 'e', 'm', 'e', 'n', 't', 'e', 'd', ' ', 'i', 'n', ' ', 'C', ' ', 'o', 'r', ' ', 'C', '+', '+', ' ', '(', 'o', 'r', ' ', 'o', 't', 'h', 'e', 'r', ' ', 'l', 'a', 'n', 'g', 'u', 'a', 'g', 'e', 's', ' ', 'c', 'a', 'l', 'l', 'a', 'b', 'l', 'e', ' ', 'f', 'r', 'o', 'm', ' ', 'C', ')', '.', ' ', 'P', 'y', 't', 'h', 'o', 'n', ' ', 'i', 's', ' ', 'a', 'l', 's', 'o', ' ', 's', 'u', 'i', 't', 'a', 'b', 'l', 'e', ' ', 'a', 's', ' ', 'a', 'n', ' ', 'e', 'x', 't', 'e', 'n', 's', 'i', 'o', 'n', ' ', 'l', 'a', 'n', 'g', 'u', 'a', 'g', 'e', ' ', 'f', 'o', 'r', ' ', 'c', 'u', 's', 't', 'o', 'm', 'i', 'z', 'a', 'b', 'l', 'e', ' ', 'a', 'p', 'p', 'l', 'i', 'c', 'a', 't', 'i', 'o', 'n', 's', '.']\n"
     ]
    }
   ],
   "source": [
    "# Character Count\n",
    "with open(filepath,'r') as f:\n",
    "    charcount = 0\n",
    "    for i in f:\n",
    "        s = list(i)\n",
    "        print(s)"
   ]
  },
  {
   "cell_type": "code",
   "execution_count": 26,
   "metadata": {},
   "outputs": [
    {
     "name": "stdout",
     "output_type": "stream",
     "text": [
      "['P', 'y', 't', 'h', 'o', 'n', ' ', 'i', 's', ' ', 'a', 'n', ' ', 'e', 'a', 's', 'y', ' ', 't', 'o', ' ', 'l', 'e', 'a', 'r', 'n', ',', ' ', 'p', 'o', 'w', 'e', 'r', 'f', 'u', 'l', ' ', 'p', 'r', 'o', 'g', 'r', 'a', 'm', 'm', 'i', 'n', 'g', ' ', 'l', 'a', 'n', 'g', 'u', 'a', 'g', 'e', '.', '\\n', 'I', 't', ' ', 'h', 'a', 's', ' ', 'e', 'f', 'f', 'i', 'c', 'i', 'e', 'n', 't', ' ', 'h', 'i', 'g', 'h', '-', 'l', 'e', 'v', 'e', 'l', ' ', 'd', 'a', 't', 'a', ' ', 's', 't', 'r', 'u', 'c', 't', 'u', 'r', 'e', 's', ' ', 'a', 'n', 'd', ' ', 'a', ' ', 's', 'i', 'm', 'p', 'l', 'e', ' ', 'b', 'u', 't', ' ', 'e', 'f', 'f', 'e', 'c', 't', 'i', 'v', 'e', ' ', 'a', 'p', 'p', 'r', 'o', 'a', 'c', 'h', ' ', 't', 'o', ' ', 'o', 'b', 'j', 'e', 'c', 't', '-', 'o', 'r', 'i', 'e', 'n', 't', 'e', 'd', ' ', 'p', 'r', 'o', 'g', 'r', 'a', 'm', 'm', 'i', 'n', 'g', '.', '\\n', 'P', 'y', 't', 'h', 'o', 'n', 'â', '€', '™', 's', ' ', 'e', 'l', 'e', 'g', 'a', 'n', 't', ' ', 's', 'y', 'n', 't', 'a', 'x', ' ', 'a', 'n', 'd', ' ', 'd', 'y', 'n', 'a', 'm', 'i', 'c', ' ', 't', 'y', 'p', 'i', 'n', 'g', ',', ' ', 't', 'o', 'g', 'e', 't', 'h', 'e', 'r', ' ', 'w', 'i', 't', 'h', ' ', 'i', 't', 's', ' ', 'i', 'n', 't', 'e', 'r', 'p', 'r', 'e', 't', 'e', 'd', ' ', 'n', 'a', 't', 'u', 'r', 'e', ',', ' ', 'm', 'a', 'k', 'e', ' ', 'i', 't', ' ', 'a', 'n', ' ', 'i', 'd', 'e', 'a', 'l', ' ', 'l', 'a', 'n', 'g', 'u', 'a', 'g', 'e', ' ', 'f', 'o', 'r', ' ', 's', 'c', 'r', 'i', 'p', 't', 'i', 'n', 'g', ' ', 'a', 'n', 'd', ' ', 'r', 'a', 'p', 'i', 'd', ' ', 'a', 'p', 'p', 'l', 'i', 'c', 'a', 't', 'i', 'o', 'n', ' ', 'd', 'e', 'v', 'e', 'l', 'o', 'p', 'm', 'e', 'n', 't', ' ', 'i', 'n', ' ', 'm', 'a', 'n', 'y', ' ', 'a', 'r', 'e', 'a', 's', ' ', 'o', 'n', ' ', 'm', 'o', 's', 't', ' ', 'p', 'l', 'a', 't', 'f', 'o', 'r', 'm', 's', '.', '\\n', 'T', 'h', 'e', ' ', 'P', 'y', 't', 'h', 'o', 'n', ' ', 'i', 'n', 't', 'e', 'r', 'p', 'r', 'e', 't', 'e', 'r', ' ', 'i', 's', ' ', 'e', 'a', 's', 'i', 'l', 'y', ' ', 'e', 'x', 't', 'e', 'n', 'd', 'e', 'd', ' ', 'w', 'i', 't', 'h', ' ', 'n', 'e', 'w', ' ', 'f', 'u', 'n', 'c', 't', 'i', 'o', 'n', 's', ' ', 'a', 'n', 'd', ' ', 'd', 'a', 't', 'a', ' ', 't', 'y', 'p', 'e', 's', ' ', 'i', 'm', 'p', 'l', 'e', 'm', 'e', 'n', 't', 'e', 'd', ' ', 'i', 'n', ' ', 'C', ' ', 'o', 'r', ' ', 'C', '+', '+', ' ', '(', 'o', 'r', ' ', 'o', 't', 'h', 'e', 'r', ' ', 'l', 'a', 'n', 'g', 'u', 'a', 'g', 'e', 's', ' ', 'c', 'a', 'l', 'l', 'a', 'b', 'l', 'e', ' ', 'f', 'r', 'o', 'm', ' ', 'C', ')', '.', ' ', 'P', 'y', 't', 'h', 'o', 'n', ' ', 'i', 's', ' ', 'a', 'l', 's', 'o', ' ', 's', 'u', 'i', 't', 'a', 'b', 'l', 'e', ' ', 'a', 's', ' ', 'a', 'n', ' ', 'e', 'x', 't', 'e', 'n', 's', 'i', 'o', 'n', ' ', 'l', 'a', 'n', 'g', 'u', 'a', 'g', 'e', ' ', 'f', 'o', 'r', ' ', 'c', 'u', 's', 't', 'o', 'm', 'i', 'z', 'a', 'b', 'l', 'e', ' ', 'a', 'p', 'p', 'l', 'i', 'c', 'a', 't', 'i', 'o', 'n', 's', '.']\n"
     ]
    }
   ],
   "source": [
    "with open(filepath,'r') as f:\n",
    "    charcount = 0\n",
    "    s = list(f.read())\n",
    "    print(s)"
   ]
  },
  {
   "cell_type": "code",
   "execution_count": 31,
   "metadata": {},
   "outputs": [
    {
     "name": "stdout",
     "output_type": "stream",
     "text": [
      "494\n"
     ]
    }
   ],
   "source": [
    "#Char Count\n",
    "with open(filepath,'r') as f:\n",
    "    charcount = 0\n",
    "    for i in f:\n",
    "        s = i.split()\n",
    "        for j in s:\n",
    "            charcount+=len(j)\n",
    "    print(charcount)"
   ]
  },
  {
   "cell_type": "code",
   "execution_count": 32,
   "metadata": {},
   "outputs": [
    {
     "data": {
      "text/plain": [
       "'Krishna'"
      ]
     },
     "execution_count": 32,
     "metadata": {},
     "output_type": "execute_result"
    }
   ],
   "source": [
    "#Remove Space\n",
    "s = ' Krishna  ' \n",
    "s = s.strip()\n",
    "s"
   ]
  },
  {
   "cell_type": "code",
   "execution_count": 33,
   "metadata": {},
   "outputs": [
    {
     "data": {
      "text/plain": [
       "'Krishna  '"
      ]
     },
     "execution_count": 33,
     "metadata": {},
     "output_type": "execute_result"
    }
   ],
   "source": [
    "s = ' Krishna  ' \n",
    "s = s.lstrip()\n",
    "s"
   ]
  },
  {
   "cell_type": "code",
   "execution_count": 34,
   "metadata": {},
   "outputs": [
    {
     "data": {
      "text/plain": [
       "' Krishna'"
      ]
     },
     "execution_count": 34,
     "metadata": {},
     "output_type": "execute_result"
    }
   ],
   "source": [
    "s = ' Krishna  ' \n",
    "s = s.rstrip()\n",
    "s"
   ]
  },
  {
   "cell_type": "code",
   "execution_count": null,
   "metadata": {},
   "outputs": [],
   "source": [
    "def Odd():\n",
    "    m=0\n",
    "    while True:\n",
    "        n = input()\n",
    "        if n == 'EXIT':\n",
    "            print('/n')\n",
    "            print(m)\n",
    "            return\n",
    "        elif int(n)%2==0:\n",
    "            print(int(n),end=' ')\n",
    "            if int(n)>m:\n",
    "                m=int(n)\n",
    "Odd()\n",
    "        "
   ]
  },
  {
   "cell_type": "code",
   "execution_count": null,
   "metadata": {},
   "outputs": [],
   "source": [
    "t = int(input())\n",
    "dom ={}\n",
    "for i in range(t):\n",
    "    s= input().split('.')\n",
    "    d=s[-1]\n",
    "    if d not in dom:\n",
    "        dom[d]=1\n",
    "    else:\n",
    "        dom[d]+=1\n",
    "    max_element=max(dom.values())\n",
    "    for i in dom.items():\n",
    "        if i[1]==max_element:\n",
    "            print(i[0])"
   ]
  },
  {
   "cell_type": "code",
   "execution_count": 2,
   "metadata": {},
   "outputs": [
    {
     "name": "stdout",
     "output_type": "stream",
     "text": [
      "1 10 3\n",
      "3\n"
     ]
    }
   ],
   "source": [
    "#Count Divisors\n",
    "def Count(l,r,k):\n",
    "    c=0\n",
    "    for i in range(l,r+1):\n",
    "        if i%k==0:\n",
    "            c+=1\n",
    "    print(c)\n",
    "s=input()\n",
    "s=s.split()\n",
    "l=int(s[0])\n",
    "r=int(s[1])\n",
    "k=int(s[2])\n",
    "Count(1,10,3)\n",
    "            "
   ]
  },
  {
   "cell_type": "code",
   "execution_count": null,
   "metadata": {},
   "outputs": [],
   "source": [
    "n = int(input())\n",
    "for j in range(n):\n",
    "    l=input().split()\n",
    "    status=True\n",
    "    for i in l:\n",
    "        if l.count(i)>1:\n",
    "            status=False:\n",
    "for i in range(l,)"
   ]
  }
 ],
 "metadata": {
  "kernelspec": {
   "display_name": "Python 3",
   "language": "python",
   "name": "python3"
  },
  "language_info": {
   "codemirror_mode": {
    "name": "ipython",
    "version": 3
   },
   "file_extension": ".py",
   "mimetype": "text/x-python",
   "name": "python",
   "nbconvert_exporter": "python",
   "pygments_lexer": "ipython3",
   "version": "3.7.3"
  }
 },
 "nbformat": 4,
 "nbformat_minor": 2
}
