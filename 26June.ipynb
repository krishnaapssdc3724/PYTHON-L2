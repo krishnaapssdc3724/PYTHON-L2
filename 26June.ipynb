{
 "cells": [
  {
   "cell_type": "code",
   "execution_count": 25,
   "metadata": {},
   "outputs": [
    {
     "data": {
      "text/plain": [
       "1"
      ]
     },
     "execution_count": 25,
     "metadata": {},
     "output_type": "execute_result"
    }
   ],
   "source": [
    "# Function to identify highest  frequency element in a list\n",
    "def hfrequency(li):\n",
    "    unique = {}\n",
    "    for i in li:\n",
    "        if i  in unique:\n",
    "            #unique.append(i)\n",
    "            unique[i] +=1\n",
    "        else:\n",
    "            unique[i] = 1\n",
    "    #return unique.count(max(unique))\n",
    "# Getting all frequencies into a list\n",
    "            freq =unique.values()\n",
    "            maxfreq = max(freq)\n",
    "            maxfreqE = []\n",
    "# Identify the smallest number with maximum frequency\n",
    "    for item in unique.items():\n",
    "        if item[1] == maxfreq:\n",
    "            maxfreqE.append(item[0])\n",
    "#Select the minimum from the keys with \n",
    "    return min(maxfreqE)\n",
    "hfrequency([1,2,3,9,8,7,3,4,2,1])"
   ]
  },
  {
   "cell_type": "code",
   "execution_count": 9,
   "metadata": {},
   "outputs": [],
   "source": [
    "#Extract  all keys with maxfreq in a list\n",
    "maxfreqkeys = []\n",
    "for item in unique.items():\n",
    "    #item->(key,value)\n",
    "    #item[1]\n",
    "    if item[1] == maxfreq:\n",
    "        maxfreqkeys.append(item[0])\n",
    "return min(maxfreqkeys)"
   ]
  },
  {
   "cell_type": "code",
   "execution_count": 19,
   "metadata": {},
   "outputs": [
    {
     "data": {
      "text/plain": [
       "3"
      ]
     },
     "execution_count": 19,
     "metadata": {},
     "output_type": "execute_result"
    }
   ],
   "source": [
    "# Function to identify second highest frequency element.If there are any same number with same frequency \n",
    "#return the smallest\n",
    "#[1,2,3,2,1,4,4,9] second highest frequency element is 3\n",
    "def secondhighest(li):\n",
    "    unique = {}\n",
    "    for i in li:\n",
    "        if i in unique:\n",
    "            unique[i]+=1\n",
    "        else:\n",
    "            unique[i]=1\n",
    "            \n",
    "    freq = unique.values()\n",
    "    secondlargest = max(freq)-1\n",
    "    s1=[]\n",
    "    for i in unique.items():\n",
    "        if i[1] == secondlargest:\n",
    "            s1.append(i[0])\n",
    "    return min(s1)\n",
    "secondhighest([1,2,3,2,1,4,4,9])\n"
   ]
  },
  {
   "cell_type": "code",
   "execution_count": 24,
   "metadata": {},
   "outputs": [
    {
     "data": {
      "text/plain": [
       "2"
      ]
     },
     "execution_count": 24,
     "metadata": {},
     "output_type": "execute_result"
    }
   ],
   "source": [
    "# Function to identify  kth highest frequency \n",
    "#If there  are many such elements, return \n",
    "#[9,8,7,6,5,2,3,4,9,6,7,7,7,6,7,6], k=4  O/p=>2\n",
    "def fourthHighest(li,k):\n",
    "    unique = {}\n",
    "    for i in li:\n",
    "        if i in unique:\n",
    "            unique[i]+=1\n",
    "        else:\n",
    "            unique[i]=1\n",
    "    freq = unique.values()\n",
    "    khigh = max(freq)-k\n",
    "    s1=[]\n",
    "    for i in unique.items():\n",
    "        if i[1] == khigh:\n",
    "            s1.append(i[0]) \n",
    "    if len(s1) > 1:\n",
    "        return min(s1)\n",
    "    return -1\n",
    "fourthHighest([9,8,7,6,5,2,3,4,9,6,7,7,7,6,7,6],4)\n",
    "with open('DataFiles/k-largest-freq','r') as f:\n",
    "    t=int(f.readline())\n",
    "    for item in frequency.items():\n",
    "        if item[1]==kvalue:\n",
    "            li.append(item[0])\n",
    "    return min(li)"
   ]
  },
  {
   "cell_type": "code",
   "execution_count": null,
   "metadata": {},
   "outputs": [],
   "source": [
    "### "
   ]
  },
  {
   "cell_type": "code",
   "execution_count": null,
   "metadata": {},
   "outputs": [],
   "source": []
  }
 ],
 "metadata": {
  "kernelspec": {
   "display_name": "Python 3",
   "language": "python",
   "name": "python3"
  },
  "language_info": {
   "codemirror_mode": {
    "name": "ipython",
    "version": 3
   },
   "file_extension": ".py",
   "mimetype": "text/x-python",
   "name": "python",
   "nbconvert_exporter": "python",
   "pygments_lexer": "ipython3",
   "version": "3.7.3"
  }
 },
 "nbformat": 4,
 "nbformat_minor": 2
}
