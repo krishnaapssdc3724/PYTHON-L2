{
 "cells": [
  {
   "cell_type": "markdown",
   "metadata": {},
   "source": [
    "### Contact Application\n",
    " #--Add Contact\n",
    " #-- Search for Contact\n",
    " #-- List all contact\n",
    " #--Modify Contact\n",
    " #--Remove Contact"
   ]
  },
  {
   "cell_type": "code",
   "execution_count": 2,
   "metadata": {},
   "outputs": [
    {
     "name": "stdout",
     "output_type": "stream",
     "text": [
      "contact Krishna added\n"
     ]
    }
   ],
   "source": [
    "Contact = {}\n",
    "def addContact(name,phone):\n",
    "    #Verify that the contact does not already exists\n",
    "    if name not in Contact:\n",
    "        Contact[name] = phone\n",
    "        print(\"contact %s added\" %name)\n",
    "    else:\n",
    "        print(\"Contact %s  already exists\"% name)\n",
    "addContact('Krishna',\"9494099380\")"
   ]
  },
  {
   "cell_type": "code",
   "execution_count": 3,
   "metadata": {},
   "outputs": [
    {
     "data": {
      "text/plain": [
       "{'Krishna': '9494099380'}"
      ]
     },
     "execution_count": 3,
     "metadata": {},
     "output_type": "execute_result"
    }
   ],
   "source": [
    "Contact"
   ]
  },
  {
   "cell_type": "code",
   "execution_count": 4,
   "metadata": {},
   "outputs": [
    {
     "name": "stdout",
     "output_type": "stream",
     "text": [
      "Krishna : 9494099380\n"
     ]
    }
   ],
   "source": [
    "def SearchContact(name):\n",
    "    if name not in Contact:\n",
    "        print(\"Contact %s does not exist\" %name)\n",
    "    else:\n",
    "        print(name,\":\",Contact[name])\n",
    "SearchContact(\"Krishna\")"
   ]
  },
  {
   "cell_type": "code",
   "execution_count": 5,
   "metadata": {},
   "outputs": [
    {
     "data": {
      "text/plain": [
       "{'Krishna': '9494099380', 'Pavan': '123456789', 'Aman': '7906579563'}"
      ]
     },
     "execution_count": 5,
     "metadata": {},
     "output_type": "execute_result"
    }
   ],
   "source": [
    "Contact[\"Pavan\"]=\"123456789\"\n",
    "Contact[\"Aman\"]=\"7906579563\"\n",
    "Contact"
   ]
  },
  {
   "cell_type": "code",
   "execution_count": 6,
   "metadata": {},
   "outputs": [
    {
     "data": {
      "text/plain": [
       "{'Krishna': '9494099380', 'Pavan': '123456789', 'Aman': '7906579563'}"
      ]
     },
     "execution_count": 6,
     "metadata": {},
     "output_type": "execute_result"
    }
   ],
   "source": [
    "def ListContact():\n",
    "    return Contact\n",
    "ListContact()"
   ]
  },
  {
   "cell_type": "code",
   "execution_count": 11,
   "metadata": {},
   "outputs": [
    {
     "name": "stdout",
     "output_type": "stream",
     "text": [
      "Modified\n"
     ]
    }
   ],
   "source": [
    "def modify(name,num):\n",
    "    if name in Contact:\n",
    "        Contact[name]=num\n",
    "        print(\"Modified\")\n",
    "    else:\n",
    "        print(\"The Contact not Available\")\n",
    "modify(\"Krishna\",\"7093106480\")"
   ]
  },
  {
   "cell_type": "code",
   "execution_count": 12,
   "metadata": {},
   "outputs": [
    {
     "data": {
      "text/plain": [
       "{'Krishna': '7093106480', 'Pavan': '123456789', 'Aman': '7906579563'}"
      ]
     },
     "execution_count": 12,
     "metadata": {},
     "output_type": "execute_result"
    }
   ],
   "source": [
    "Contact"
   ]
  },
  {
   "cell_type": "code",
   "execution_count": 13,
   "metadata": {},
   "outputs": [
    {
     "name": "stdout",
     "output_type": "stream",
     "text": [
      "Contact deleted\n"
     ]
    }
   ],
   "source": [
    "def delete(name):\n",
    "    if name in Contact:\n",
    "        Contact.pop(name)\n",
    "        print(\"Contact deleted\")\n",
    "    else:\n",
    "        print(\"Contact not found\")\n",
    "delete('Pavan')"
   ]
  },
  {
   "cell_type": "code",
   "execution_count": 14,
   "metadata": {},
   "outputs": [
    {
     "data": {
      "text/plain": [
       "{'Krishna': '7093106480', 'Aman': '7906579563'}"
      ]
     },
     "execution_count": 14,
     "metadata": {},
     "output_type": "execute_result"
    }
   ],
   "source": [
    "Contact"
   ]
  },
  {
   "cell_type": "code",
   "execution_count": 16,
   "metadata": {},
   "outputs": [
    {
     "name": "stdout",
     "output_type": "stream",
     "text": [
      "2 Contacts got added\n"
     ]
    }
   ],
   "source": [
    "# New Contact is given  as a dictionary.\n",
    "# Use update keyword\n",
    "# Merge new Contact with existing dictionary\n",
    "def importC(newContacts):\n",
    "    Contact.update(newContacts)\n",
    "    print(len(newContacts.keys()),\"Contacts got added\")\n",
    "newContacts = {\"Masthan\":345677,'Gopal':9887666}\n",
    "importC(newContacts)"
   ]
  },
  {
   "cell_type": "code",
   "execution_count": 18,
   "metadata": {},
   "outputs": [
    {
     "data": {
      "text/plain": [
       "{'Krishna': '7093106480',\n",
       " 'Aman': '7906579563',\n",
       " 'Masthan': 345677,\n",
       " 'Gopal': 9887666}"
      ]
     },
     "execution_count": 18,
     "metadata": {},
     "output_type": "execute_result"
    }
   ],
   "source": [
    "Contact"
   ]
  },
  {
   "cell_type": "markdown",
   "metadata": {},
   "source": [
    "### Packages and Modules in Python\n",
    "    packages-->Collections of Modules (PythonFile.py)and subpackages.\n",
    "    SubPackages\n",
    "      Modules-->A single python file containing functions.\n",
    "      Package-->SubPackage-->Modules-->Functions"
   ]
  },
  {
   "cell_type": "code",
   "execution_count": 19,
   "metadata": {},
   "outputs": [
    {
     "data": {
      "text/plain": [
       "3.141592653589793"
      ]
     },
     "execution_count": 19,
     "metadata": {},
     "output_type": "execute_result"
    }
   ],
   "source": [
    "# math will import the math package\n",
    "import math\n",
    "math.floor(123.456)\n",
    "math.pi"
   ]
  },
  {
   "cell_type": "code",
   "execution_count": null,
   "metadata": {},
   "outputs": [],
   "source": []
  }
 ],
 "metadata": {
  "kernelspec": {
   "display_name": "Python 3",
   "language": "python",
   "name": "python3"
  },
  "language_info": {
   "codemirror_mode": {
    "name": "ipython",
    "version": 3
   },
   "file_extension": ".py",
   "mimetype": "text/x-python",
   "name": "python",
   "nbconvert_exporter": "python",
   "pygments_lexer": "ipython3",
   "version": "3.7.3"
  }
 },
 "nbformat": 4,
 "nbformat_minor": 2
}
