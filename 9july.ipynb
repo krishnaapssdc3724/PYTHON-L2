{
 "cells": [
  {
   "cell_type": "markdown",
   "metadata": {},
   "source": [
    "### Given an integer, ’n’ , perform the following conditional actions:\n",
    "- If ‘n’  is odd, print Weird\n",
    "- If  ‘n’ is even and in the inclusive range of 2 to 5, print Not Weird\n",
    "- If  ‘n’ is even and in the inclusive range of 6 to 20 , print Weird\n",
    "- If  ‘n’ is even and greater than 20, print Not Weird\n"
   ]
  },
  {
   "cell_type": "code",
   "execution_count": null,
   "metadata": {},
   "outputs": [],
   "source": [
    "n = int(input())\n",
    "if n%2!=0:\n",
    "    print(\"wired\")\n",
    "else:\n",
    "    if(n>=2 and n<=5):\n",
    "        print(\"NotWired\")\n",
    "    elif(n>6 and n<20):\n",
    "        print(\"Wired\")\n",
    "    elif(n>20):\n",
    "        print(\"NotWired\")\n",
    "        \n",
    "        "
   ]
  },
  {
   "cell_type": "code",
   "execution_count": null,
   "metadata": {},
   "outputs": [],
   "source": [
    "import sys\n",
    "\n",
    "\n",
    "N = int(input().strip())\n",
    "\n",
    "if N%2 != 0:\n",
    "    print (\"Weird\")\n",
    "else:\n",
    "    if N >= 2 and N <= 5:\n",
    "        print(\"Not Weird\") \n",
    "    elif N >= 6 and N <= 20:\n",
    "        print (\"Weird\")\n",
    "    elif N > 20:\n",
    "        print(\"Not Weird\") "
   ]
  },
  {
   "cell_type": "markdown",
   "metadata": {},
   "source": [
    "### Advanced Problem Set( Optional )\n",
    "- Function to calculate the average of all factorials in a given range\n",
    "- Function to generate N odd Armstrong numbers\n",
    "- Function to generate Multiplication table for a number in a given range\n",
    "- 10 in the range(100, 102) inclusive\n",
    "- 10 x 100 = 1000\n",
    "- 10 x 101 = 1010\n",
    "- 10 x 102 = 1020\n"
   ]
  },
  {
   "cell_type": "code",
   "execution_count": null,
   "metadata": {},
   "outputs": [],
   "source": [
    "# Given the participants N Score  sheet\n",
    "l = [1,2,3,4,5,6]\n",
    "l.sort"
   ]
  },
  {
   "cell_type": "code",
   "execution_count": null,
   "metadata": {},
   "outputs": [],
   "source": [
    "# Program to count factorial \n",
    "# numbers in given range \n",
    "\n",
    "def countFact(low,high): \n",
    "\n",
    "\t# Find the first factorial number \n",
    "\t# 'fact' greater than or \n",
    "\t# equal to 'low' \n",
    "\tfact = 1\n",
    "\tx = 1\n",
    "\twhile (fact < low): \n",
    "\t\n",
    "\t\tfact = fact * x \n",
    "\t\tx += 1\n",
    "\t\n",
    "\n",
    "\t# Count factorial numbers \n",
    "\t# in range [low, high] \n",
    "\tres = 0\n",
    "\twhile (fact <= high): \n",
    "\t\n",
    "\t\tres += 1\n",
    "\t\tfact = fact * x \n",
    "\t\tx += 1\n",
    "\t\n",
    "\n",
    "\t# Return the count \n",
    "\treturn res \n",
    "\n",
    "# Driver code \n",
    "\n",
    "print(\"Count is \", countFact(2, 720)) \n",
    "\n",
    "# This code is contributed \n",
    "# by Anant Agarwal. \n"
   ]
  },
  {
   "cell_type": "code",
   "execution_count": null,
   "metadata": {},
   "outputs": [],
   "source": [
    "#Read the number of Participants\n",
    "n = int(input())\n",
    "scores = []\n",
    "for i in range(n):\n",
    "    s = int(input())\n",
    "    scores.append(s)\n",
    "    scores = sorted(scores,reverse=True)\n",
    "    max_score = max(scores)\n",
    "    runner_up_score = 0\n",
    "try:\n",
    "    for i in range(1,n):\n",
    "        if max_score == scores[i]:\n",
    "            runner_up_score = score[i+1]\n",
    "    print(runner_up_score)\n",
    "except IndexError:\n",
    "    print(\"Sorry There is No Runner Up Score\")\n",
    "       "
   ]
  },
  {
   "cell_type": "code",
   "execution_count": null,
   "metadata": {},
   "outputs": [],
   "source": []
  },
  {
   "cell_type": "code",
   "execution_count": null,
   "metadata": {},
   "outputs": [],
   "source": [
    "dir(list)"
   ]
  },
  {
   "cell_type": "code",
   "execution_count": null,
   "metadata": {},
   "outputs": [],
   "source": [
    "#Average of N Numbers\n",
    "N = int(input(\"How Many Numbers are there:\"))\n",
    "sum = 0\n",
    "for i in range(N):\n",
    "    numbers = int(input(\"Enter Numbers:\"))\n",
    "    sum = sum+numbers\n",
    "    avg = sum/N\n",
    "print('The Average of ',N,'number is:',avg)\n"
   ]
  },
  {
   "cell_type": "code",
   "execution_count": null,
   "metadata": {},
   "outputs": [],
   "source": [
    "#Function to calculate the average of all factorials in a given range\n",
    "n = int(input(\"Enter any integer\"))\n",
    "fact = 1\n",
    "  \n",
    "for i in range(1,n+1): \n",
    "    fact = fact * i \n",
    "      \n",
    "print (\"The factorial of n is : \",end=\"\") \n",
    "print (fact) "
   ]
  },
  {
   "cell_type": "code",
   "execution_count": null,
   "metadata": {},
   "outputs": [],
   "source": [
    "5-->1->1\n",
    "    2-->2\n",
    "    3-->6\n",
    "    4-->24\n",
    "    5-->120\n",
    "    "
   ]
  },
  {
   "cell_type": "code",
   "execution_count": null,
   "metadata": {},
   "outputs": [],
   "source": [
    "#Function to calculate the factorial of a given number\n",
    "def factorial(n):\n",
    "   sum=0\n",
    "   count=0\n",
    "   for j in range(1,n+1):\n",
    "       pro=1\n",
    "       for i in range(j,1,-1):\n",
    "           pro=pro*i\n",
    "       print(j,'--->',pro)\n",
    "       sum=sum+pro\n",
    "       count=count+1\n",
    "   print(sum,count)\n",
    "   print(sum/count)\n",
    "\n",
    "factorial(5)"
   ]
  },
  {
   "cell_type": "code",
   "execution_count": null,
   "metadata": {},
   "outputs": [],
   "source": [
    "def factorial(n):\n",
    "    sum = 0\n",
    "    count = 0\n",
    "    for j in range(1,n+1):\n",
    "        pro = 1\n",
    "        for i in range(j,1,-1):\n",
    "            pro=pro*i\n",
    "        print(j,\"--->\",pro)\n",
    "        sum = sum+pro\n",
    "        count=count+1\n",
    "    print(sum,count)\n",
    "    print(sum/count)\n",
    "factorial(5)"
   ]
  },
  {
   "cell_type": "code",
   "execution_count": null,
   "metadata": {},
   "outputs": [],
   "source": [
    "#Function to generate N odd Armstrong numbers\n",
    "num = int(input(\"Enter Number:\"))\n",
    "sum = 0\n",
    "temp = num\n",
    "while num>0:\n",
    "    digit = temp%10\n",
    "    sum= sum+digit ** 3\n",
    "    temp //= 10\n",
    "    if num == sum:\n",
    "        print(num,\"is Arm Strong Number:\")\n",
    "        else:\n",
    "        print(num,\"is Not ArmStrong Number\")\n"
   ]
  },
  {
   "cell_type": "code",
   "execution_count": null,
   "metadata": {},
   "outputs": [],
   "source": [
    "# Python program to check if the number provided by the user is an Armstrong number or not\n",
    "# take input from the user\n",
    "num = int(input(\"Enter a number: \"))\n",
    "# initialize sum\n",
    "sum = 0\n",
    "# find the sum of the cube of each digit\n",
    "temp = num\n",
    "while temp > 0:\n",
    "   digit = temp % 10\n",
    "   sum += digit ** 3\n",
    "   temp //= 10\n",
    "# display the result\n",
    "if num == sum:\n",
    "   print(num,\"is an Armstrong number\")\n",
    "else:\n",
    "   print(num,\"is not an Armstrong number\")"
   ]
  },
  {
   "cell_type": "code",
   "execution_count": 4,
   "metadata": {},
   "outputs": [
    {
     "name": "stdout",
     "output_type": "stream",
     "text": [
      "Enter Num12345\n",
      "5\n"
     ]
    }
   ],
   "source": [
    "n =int(input(\"Enter Num\"))\n",
    "c=0\n",
    "r=1\n",
    "while n>0:\n",
    "    r=n%10\n",
    "    c=c+1\n",
    "    n=n//10\n",
    "print(c)\n"
   ]
  },
  {
   "cell_type": "code",
   "execution_count": 5,
   "metadata": {},
   "outputs": [
    {
     "name": "stdout",
     "output_type": "stream",
     "text": [
      "8.0\n"
     ]
    }
   ],
   "source": [
    " #Function to find average of cubes of all even numbers in given range(lb,ub)\n",
    "# inclusive\n",
    "def average(lb,ub):\n",
    "    sum=0\n",
    "    c=0\n",
    "    cubes=1\n",
    "    avg=1\n",
    "    for i in range(lb,ub+1):\n",
    "        if(i%2==0):\n",
    "            c=c+1\n",
    "            cubes=i*i*i\n",
    "            sum = sum+cubes\n",
    "            avg = sum/c\n",
    "            print(avg)\n",
    "            return\n",
    "average(1,5)\n",
    "    "
   ]
  },
  {
   "cell_type": "code",
   "execution_count": 7,
   "metadata": {},
   "outputs": [
    {
     "name": "stdout",
     "output_type": "stream",
     "text": [
      "1 2 3 4 6 12 "
     ]
    }
   ],
   "source": [
    "# Function to generate list of factors for a given number\n",
    "def factors(n):\n",
    "    for i in range(1,n+1):\n",
    "        if(n%i==0):\n",
    "            print(i,end=' ')\n",
    "    return\n",
    "factors(12)\n",
    "        "
   ]
  },
  {
   "cell_type": "code",
   "execution_count": 9,
   "metadata": {},
   "outputs": [
    {
     "data": {
      "text/plain": [
       "120"
      ]
     },
     "execution_count": 9,
     "metadata": {},
     "output_type": "execute_result"
    }
   ],
   "source": [
    "# Function to calculate factorial of a number\n",
    "def factorial(num):\n",
    "    m=1\n",
    "    while(num>=1):\n",
    "        m=m*num\n",
    "        num=num-1\n",
    "    return m\n",
    "factorial(5)"
   ]
  },
  {
   "cell_type": "code",
   "execution_count": 1,
   "metadata": {},
   "outputs": [
    {
     "data": {
      "text/plain": [
       "True"
      ]
     },
     "execution_count": 1,
     "metadata": {},
     "output_type": "execute_result"
    }
   ],
   "source": [
    "# Function to check if a number is prime.\n",
    "def Prime(p):\n",
    "    c=0\n",
    "    for i in range(2,p):\n",
    "        if(p%i==0):\n",
    "            c=c+1\n",
    "        if(c==0):\n",
    "            return True\n",
    "        else:\n",
    "            return False\n",
    "Prime(7)\n",
    "            "
   ]
  },
  {
   "cell_type": "code",
   "execution_count": 2,
   "metadata": {},
   "outputs": [
    {
     "data": {
      "text/plain": [
       "6.0"
      ]
     },
     "execution_count": 2,
     "metadata": {},
     "output_type": "execute_result"
    }
   ],
   "source": [
    "# Function to calculate the average of first n prime numbers\n",
    "def averageNprime(n):\n",
    "    sum=0\n",
    "    count=0\n",
    "    for i in range(n):\n",
    "        if Prime(i):\n",
    "            count=count+1\n",
    "            sum = sum+i\n",
    "    return sum/count\n",
    "averageNprime(10)"
   ]
  },
  {
   "cell_type": "code",
   "execution_count": 3,
   "metadata": {},
   "outputs": [
    {
     "name": "stdout",
     "output_type": "stream",
     "text": [
      "krishnais a good boy\n"
     ]
    }
   ],
   "source": [
    "s = \"krishna\"\n",
    "s2 = 'is a good boy'\n",
    "print(s+s2)"
   ]
  },
  {
   "cell_type": "code",
   "execution_count": 4,
   "metadata": {},
   "outputs": [
    {
     "name": "stdout",
     "output_type": "stream",
     "text": [
      "krishna is a good boy\n"
     ]
    }
   ],
   "source": [
    "s = \"krishna\"\n",
    "s2 = 'is a good boy'\n",
    "print(s,s2)"
   ]
  },
  {
   "cell_type": "code",
   "execution_count": 5,
   "metadata": {},
   "outputs": [
    {
     "data": {
      "text/plain": [
       "65"
      ]
     },
     "execution_count": 5,
     "metadata": {},
     "output_type": "execute_result"
    }
   ],
   "source": [
    "#ASCI Values\n",
    "ord('A')"
   ]
  },
  {
   "cell_type": "code",
   "execution_count": 6,
   "metadata": {},
   "outputs": [
    {
     "data": {
      "text/plain": [
       "'1'"
      ]
     },
     "execution_count": 6,
     "metadata": {},
     "output_type": "execute_result"
    }
   ],
   "source": [
    "chr(49)"
   ]
  },
  {
   "cell_type": "code",
   "execution_count": null,
   "metadata": {},
   "outputs": [],
   "source": [
    "#A-1\n",
    "#B-2\n",
    "#c-3\n",
    "#...\n",
    "#given a String  in a capital letters\n",
    "#Convert it into Numerical Format\n"
   ]
  },
  {
   "cell_type": "code",
   "execution_count": 9,
   "metadata": {},
   "outputs": [
    {
     "name": "stdout",
     "output_type": "stream",
     "text": [
      "10\n",
      "12\n",
      "2\n"
     ]
    }
   ],
   "source": [
    "# Find Common Factors\n",
    "n1= int(input())\n",
    "n2= int(input())\n",
    "temp = n1\n",
    "#if n1>n2:\n",
    " #   temp = n2\n",
    "temp = min(n1,n2)\n",
    "count = 0\n",
    "for i in range(1,temp):\n",
    "    if n1%i==0 and n2%i ==0:\n",
    "        count+=1\n",
    "print(count)"
   ]
  },
  {
   "cell_type": "code",
   "execution_count": 16,
   "metadata": {},
   "outputs": [
    {
     "name": "stdout",
     "output_type": "stream",
     "text": [
      "28 496 "
     ]
    }
   ],
   "source": [
    "# Function to generate all perfect numbers in a given range(lb,ub)inclusive.\n",
    "def factorssum(n):\n",
    "    sum=0\n",
    "    for i in range(1,n):\n",
    "        if n%i==0 :\n",
    "            sum=sum+i\n",
    "    return sum\n",
    "def perfect(lb,ub):\n",
    "    sum=0\n",
    "    for i in range(lb,ub):\n",
    "        x=factorssum(i)\n",
    "        if i==x:\n",
    "            print(i,end=' ')\n",
    "    return\n",
    "    \n",
    "perfect(10,1250)\n",
    "\n",
    "    \n",
    "        "
   ]
  },
  {
   "cell_type": "code",
   "execution_count": 12,
   "metadata": {},
   "outputs": [
    {
     "data": {
      "text/plain": [
       "9"
      ]
     },
     "execution_count": 12,
     "metadata": {},
     "output_type": "execute_result"
    }
   ],
   "source": [
    "#Find Highest Frequent element in the list\n",
    "#[1,1,1,1,2,,3,1,2,3,1,2,2,2,3,3]\n",
    "#Find Second Highest Frequent element in the list[,1,1,1,1,2,3,1,2,3,1,2]\n",
    "# Find K th Highest Frequent element in the list\n",
    "#Find the absolute difference of two numbers\n",
    "#without using 'abs' function\n",
    "abs(10-19)\n"
   ]
  },
  {
   "cell_type": "code",
   "execution_count": 20,
   "metadata": {},
   "outputs": [
    {
     "ename": "TypeError",
     "evalue": "'type' object is not subscriptable",
     "output_type": "error",
     "traceback": [
      "\u001b[1;31m---------------------------------------------------------------------------\u001b[0m",
      "\u001b[1;31mTypeError\u001b[0m                                 Traceback (most recent call last)",
      "\u001b[1;32m<ipython-input-20-ccd38576798d>\u001b[0m in \u001b[0;36m<module>\u001b[1;34m\u001b[0m\n\u001b[0;32m      9\u001b[0m     \u001b[1;32mreturn\u001b[0m \u001b[0mnum\u001b[0m\u001b[1;33m\u001b[0m\u001b[1;33m\u001b[0m\u001b[0m\n\u001b[0;32m     10\u001b[0m \u001b[0mList\u001b[0m \u001b[1;33m=\u001b[0m \u001b[1;33m[\u001b[0m\u001b[1;36m1\u001b[0m\u001b[1;33m,\u001b[0m\u001b[1;36m1\u001b[0m\u001b[1;33m,\u001b[0m\u001b[1;36m1\u001b[0m\u001b[1;33m,\u001b[0m\u001b[1;36m1\u001b[0m\u001b[1;33m,\u001b[0m\u001b[1;36m2\u001b[0m\u001b[1;33m,\u001b[0m\u001b[1;36m3\u001b[0m\u001b[1;33m,\u001b[0m\u001b[1;36m1\u001b[0m\u001b[1;33m,\u001b[0m\u001b[1;36m2\u001b[0m\u001b[1;33m,\u001b[0m\u001b[1;36m3\u001b[0m\u001b[1;33m,\u001b[0m\u001b[1;36m1\u001b[0m\u001b[1;33m,\u001b[0m\u001b[1;36m2\u001b[0m\u001b[1;33m,\u001b[0m\u001b[1;36m2\u001b[0m\u001b[1;33m,\u001b[0m\u001b[1;36m2\u001b[0m\u001b[1;33m,\u001b[0m\u001b[1;36m3\u001b[0m\u001b[1;33m,\u001b[0m\u001b[1;36m3\u001b[0m\u001b[1;33m]\u001b[0m\u001b[1;33m\u001b[0m\u001b[1;33m\u001b[0m\u001b[0m\n\u001b[1;32m---> 11\u001b[1;33m \u001b[0mprint\u001b[0m\u001b[1;33m(\u001b[0m\u001b[0mfreq_ele\u001b[0m\u001b[1;33m(\u001b[0m\u001b[0mList\u001b[0m\u001b[1;33m)\u001b[0m\u001b[1;33m)\u001b[0m\u001b[1;33m\u001b[0m\u001b[1;33m\u001b[0m\u001b[0m\n\u001b[0m",
      "\u001b[1;32m<ipython-input-20-ccd38576798d>\u001b[0m in \u001b[0;36mfreq_ele\u001b[1;34m(List)\u001b[0m\n\u001b[0;32m      1\u001b[0m \u001b[1;32mdef\u001b[0m \u001b[0mfreq_ele\u001b[0m\u001b[1;33m(\u001b[0m\u001b[0mList\u001b[0m\u001b[1;33m)\u001b[0m\u001b[1;33m:\u001b[0m\u001b[1;33m\u001b[0m\u001b[1;33m\u001b[0m\u001b[0m\n\u001b[0;32m      2\u001b[0m     \u001b[0mcount\u001b[0m \u001b[1;33m=\u001b[0m \u001b[1;36m0\u001b[0m\u001b[1;33m\u001b[0m\u001b[1;33m\u001b[0m\u001b[0m\n\u001b[1;32m----> 3\u001b[1;33m     \u001b[0mnum\u001b[0m \u001b[1;33m=\u001b[0m \u001b[0mlist\u001b[0m\u001b[1;33m[\u001b[0m\u001b[1;36m0\u001b[0m\u001b[1;33m]\u001b[0m\u001b[1;33m\u001b[0m\u001b[1;33m\u001b[0m\u001b[0m\n\u001b[0m\u001b[0;32m      4\u001b[0m     \u001b[1;32mfor\u001b[0m \u001b[0mi\u001b[0m \u001b[1;32min\u001b[0m \u001b[0mList\u001b[0m\u001b[1;33m:\u001b[0m\u001b[1;33m\u001b[0m\u001b[1;33m\u001b[0m\u001b[0m\n\u001b[0;32m      5\u001b[0m         \u001b[0mcurrent_freq\u001b[0m \u001b[1;33m=\u001b[0m \u001b[0mList\u001b[0m\u001b[1;33m.\u001b[0m\u001b[0mcount\u001b[0m\u001b[1;33m(\u001b[0m\u001b[0mi\u001b[0m\u001b[1;33m)\u001b[0m\u001b[1;33m\u001b[0m\u001b[1;33m\u001b[0m\u001b[0m\n",
      "\u001b[1;31mTypeError\u001b[0m: 'type' object is not subscriptable"
     ]
    }
   ],
   "source": [
    "def freq_ele(List):\n",
    "    count = 0\n",
    "    num = list[0]\n",
    "    for i in List:\n",
    "        current_freq = List.count(i)\n",
    "        if(current_freq>count):\n",
    "            count=current_freq\n",
    "            num=i\n",
    "    return num\n",
    "List = [1,1,1,1,2,3,1,2,3,1,2,2,2,3,3]\n",
    "print(freq_ele(List))"
   ]
  },
  {
   "cell_type": "code",
   "execution_count": 35,
   "metadata": {},
   "outputs": [
    {
     "data": {
      "text/plain": [
       "1"
      ]
     },
     "execution_count": 35,
     "metadata": {},
     "output_type": "execute_result"
    }
   ],
   "source": [
    "def hfrequency(li):\n",
    "    unique = {}\n",
    "    for i in li:\n",
    "        if i  in unique:\n",
    "            #unique.append(i)\n",
    "            unique[i] +=1\n",
    "        else:\n",
    "            unique[i] = 1\n",
    "    #return unique.count(max(unique))\n",
    "# Getting all frequencies into a list\n",
    "            freq =unique.values()\n",
    "            maxfreq = max(freq)\n",
    "            maxfreqE = []\n",
    "# Identify the smallest number with maximum frequency\n",
    "    for item in unique.items():\n",
    "        if item[1] == maxfreq:\n",
    "            maxfreqE.append(item[0])\n",
    "#Select the minimum from the keys with \n",
    "    return min(maxfreqE)\n",
    "hfrequency([1,2,3,9,8,7,3,4,2,1])"
   ]
  },
  {
   "cell_type": "code",
   "execution_count": 34,
   "metadata": {},
   "outputs": [
    {
     "name": "stdout",
     "output_type": "stream",
     "text": [
      "(1, 2)\n",
      "(2, 2)\n",
      "(3, 2)\n",
      "(9, 1)\n",
      "(8, 1)\n",
      "(7, 1)\n",
      "(4, 1)\n"
     ]
    }
   ],
   "source": [
    "unique={1: 2, 2: 2, 3: 2, 9: 1, 8: 1, 7: 1, 4: 1}\n",
    "for item in unique.items():\n",
    "    print(item)"
   ]
  },
  {
   "cell_type": "code",
   "execution_count": 40,
   "metadata": {},
   "outputs": [
    {
     "name": "stdout",
     "output_type": "stream",
     "text": [
      "www.google.com\n"
     ]
    },
    {
     "ename": "ValueError",
     "evalue": "invalid literal for int() with base 10: 'www.google.com'",
     "output_type": "error",
     "traceback": [
      "\u001b[1;31m---------------------------------------------------------------------------\u001b[0m",
      "\u001b[1;31mValueError\u001b[0m                                Traceback (most recent call last)",
      "\u001b[1;32m<ipython-input-40-6572e5a9e642>\u001b[0m in \u001b[0;36m<module>\u001b[1;34m\u001b[0m\n\u001b[1;32m----> 1\u001b[1;33m \u001b[0mt\u001b[0m \u001b[1;33m=\u001b[0m \u001b[0mint\u001b[0m\u001b[1;33m(\u001b[0m\u001b[0minput\u001b[0m\u001b[1;33m(\u001b[0m\u001b[1;33m)\u001b[0m\u001b[1;33m)\u001b[0m\u001b[1;33m\u001b[0m\u001b[1;33m\u001b[0m\u001b[0m\n\u001b[0m\u001b[0;32m      2\u001b[0m \u001b[0munique\u001b[0m \u001b[1;33m=\u001b[0m\u001b[1;33m{\u001b[0m\u001b[1;33m}\u001b[0m\u001b[1;33m\u001b[0m\u001b[1;33m\u001b[0m\u001b[0m\n\u001b[0;32m      3\u001b[0m \u001b[1;32mfor\u001b[0m \u001b[0mi\u001b[0m \u001b[1;32min\u001b[0m \u001b[0mrange\u001b[0m\u001b[1;33m(\u001b[0m\u001b[0mt\u001b[0m\u001b[1;33m)\u001b[0m\u001b[1;33m:\u001b[0m\u001b[1;33m\u001b[0m\u001b[1;33m\u001b[0m\u001b[0m\n\u001b[0;32m      4\u001b[0m     \u001b[0mstr\u001b[0m \u001b[1;33m=\u001b[0m\u001b[0minput\u001b[0m\u001b[1;33m(\u001b[0m\u001b[1;33m)\u001b[0m\u001b[1;33m.\u001b[0m\u001b[0msplit\u001b[0m\u001b[1;33m(\u001b[0m\u001b[1;34m'.'\u001b[0m\u001b[1;33m)\u001b[0m\u001b[1;33m\u001b[0m\u001b[1;33m\u001b[0m\u001b[0m\n\u001b[0;32m      5\u001b[0m     \u001b[0md\u001b[0m\u001b[1;33m=\u001b[0m\u001b[0ms\u001b[0m\u001b[1;33m[\u001b[0m\u001b[1;33m-\u001b[0m\u001b[1;36m1\u001b[0m\u001b[1;33m]\u001b[0m\u001b[1;33m\u001b[0m\u001b[1;33m\u001b[0m\u001b[0m\n",
      "\u001b[1;31mValueError\u001b[0m: invalid literal for int() with base 10: 'www.google.com'"
     ]
    }
   ],
   "source": []
  },
  {
   "cell_type": "code",
   "execution_count": 42,
   "metadata": {},
   "outputs": [
    {
     "ename": "IndentationError",
     "evalue": "unexpected indent (<ipython-input-42-6aecb04e49bf>, line 12)",
     "output_type": "error",
     "traceback": [
      "\u001b[1;36m  File \u001b[1;32m\"<ipython-input-42-6aecb04e49bf>\"\u001b[1;36m, line \u001b[1;32m12\u001b[0m\n\u001b[1;33m    if max_element = num:\u001b[0m\n\u001b[1;37m    ^\u001b[0m\n\u001b[1;31mIndentationError\u001b[0m\u001b[1;31m:\u001b[0m unexpected indent\n"
     ]
    }
   ],
   "source": [
    "#Mr Dixit new to\n",
    "#Sample Input 32,89,76,11,EXIT OUtout:32,76\n",
    "#76 \n",
    "max_element = 0\n",
    "while True:\n",
    "    n=input()\n",
    "    if n == 'EXIT':\n",
    "        break\n",
    "    num = int(n)\n",
    "    if num%2 ==0:\n",
    "        print(num,end=\" \")\n",
    "         if max_element = num:\n",
    "            print('\\n')\n",
    "              print(max_element)\n",
    "        "
   ]
  },
  {
   "cell_type": "code",
   "execution_count": null,
   "metadata": {},
   "outputs": [],
   "source": [
    "n = int(input())\n",
    "d = {}\n",
    "for i in range(n):\n",
    "    iurl = input().split('.')\n",
    "    domain = iurl[-1]\n",
    "    if domain not in d:\n",
    "        d[domain] = 1\n",
    "    else:\n",
    "        d[domain] += 1\n",
    "m = max(d.values())\n",
    "for i in d.items():\n",
    "    if i[1] == m:\n",
    "        print(i[0])\n",
    "   \n",
    "    \n",
    "    "
   ]
  },
  {
   "cell_type": "code",
   "execution_count": null,
   "metadata": {},
   "outputs": [],
   "source": []
  }
 ],
 "metadata": {
  "kernelspec": {
   "display_name": "Python 3",
   "language": "python",
   "name": "python3"
  },
  "language_info": {
   "codemirror_mode": {
    "name": "ipython",
    "version": 3
   },
   "file_extension": ".py",
   "mimetype": "text/x-python",
   "name": "python",
   "nbconvert_exporter": "python",
   "pygments_lexer": "ipython3",
   "version": "3.7.3"
  }
 },
 "nbformat": 4,
 "nbformat_minor": 2
}
