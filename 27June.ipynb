{
 "cells": [
  {
   "cell_type": "markdown",
   "metadata": {},
   "source": [
    "### Day Objectives:\n",
    "        # Combinations\n",
    "        #Set- Data Structure\n",
    "        # Set Operations\n",
    "        # UseCases\n",
    "### Functional Programming\n",
    "       #  List Comprehensions\n",
    "       \n",
    "       #Iterators\n",
    "       # Generators\n",
    "       # Maps\n",
    "       #Lambda\n",
    "       # Builtin Functions\n",
    "       # Use cases"
   ]
  },
  {
   "cell_type": "code",
   "execution_count": 13,
   "metadata": {},
   "outputs": [
    {
     "name": "stdout",
     "output_type": "stream",
     "text": [
      "1 2 3 4 5 6 AkashSir 8 9 7 10 11 12 "
     ]
    }
   ],
   "source": [
    "a={1,2,3,4,5,6}\n",
    "b={7,8,9,\"AkashSir\"}\n",
    "a.update(b)# adding multiple elements to a set\n",
    "a.add(7)# adding single element to a set\n",
    "li = [10,11,12]\n",
    "a.update(li)\n",
    "for i in a:\n",
    "    print(i,end = \" \")\n"
   ]
  },
  {
   "cell_type": "code",
   "execution_count": null,
   "metadata": {},
   "outputs": [],
   "source": [
    "## Remove elements\n",
    "a.discard(12)\n",
    "a\n"
   ]
  },
  {
   "cell_type": "code",
   "execution_count": 15,
   "metadata": {},
   "outputs": [
    {
     "data": {
      "text/plain": [
       "{1, 2, 3, 4, 5, 6, 7, 8, 9, 10}"
      ]
     },
     "execution_count": 15,
     "metadata": {},
     "output_type": "execute_result"
    }
   ],
   "source": [
    "a = {10,1,2,3,4,5,6}\n",
    "b={7,8,9,1,2,3}\n",
    "a.union(b)\n",
    "# A U B = B U A\n",
    "b.union(a)"
   ]
  },
  {
   "cell_type": "code",
   "execution_count": 25,
   "metadata": {},
   "outputs": [
    {
     "data": {
      "text/plain": [
       "{1, 2, 3}"
      ]
     },
     "execution_count": 25,
     "metadata": {},
     "output_type": "execute_result"
    }
   ],
   "source": [
    "a = {10,1,2,3,4,5,6}\n",
    "b={7,8,9,1,2,3}\n",
    "c={111,123}\n",
    "a.intersection(b)"
   ]
  },
  {
   "cell_type": "code",
   "execution_count": 27,
   "metadata": {},
   "outputs": [
    {
     "data": {
      "text/plain": [
       "True"
      ]
     },
     "execution_count": 27,
     "metadata": {},
     "output_type": "execute_result"
    }
   ],
   "source": [
    "a.isdisjoint(b)\n",
    "a.isdisjoint(c)"
   ]
  },
  {
   "cell_type": "code",
   "execution_count": 22,
   "metadata": {},
   "outputs": [
    {
     "data": {
      "text/plain": [
       "{4, 5, 6, 10}"
      ]
     },
     "execution_count": 22,
     "metadata": {},
     "output_type": "execute_result"
    }
   ],
   "source": [
    "a-b # All elements of a which are not in b"
   ]
  },
  {
   "cell_type": "code",
   "execution_count": 23,
   "metadata": {},
   "outputs": [
    {
     "data": {
      "text/plain": [
       "{7, 8, 9}"
      ]
     },
     "execution_count": 23,
     "metadata": {},
     "output_type": "execute_result"
    }
   ],
   "source": [
    "b - a # All elements of b which are not in a"
   ]
  },
  {
   "cell_type": "code",
   "execution_count": 24,
   "metadata": {},
   "outputs": [
    {
     "data": {
      "text/plain": [
       "[1, 2, 3, 4, 5, 6, 10]"
      ]
     },
     "execution_count": 24,
     "metadata": {},
     "output_type": "execute_result"
    }
   ],
   "source": [
    "sorted(a)"
   ]
  },
  {
   "cell_type": "code",
   "execution_count": 28,
   "metadata": {},
   "outputs": [
    {
     "data": {
      "text/plain": [
       "{4, 5, 6, 7, 8, 9, 10}"
      ]
     },
     "execution_count": 28,
     "metadata": {},
     "output_type": "execute_result"
    }
   ],
   "source": [
    "a^b # Element either in a or in b"
   ]
  },
  {
   "cell_type": "code",
   "execution_count": 29,
   "metadata": {},
   "outputs": [
    {
     "data": {
      "text/plain": [
       "set()"
      ]
     },
     "execution_count": 29,
     "metadata": {},
     "output_type": "execute_result"
    }
   ],
   "source": [
    "d = set()# Create a Empty Set\n",
    "d"
   ]
  },
  {
   "cell_type": "code",
   "execution_count": 30,
   "metadata": {},
   "outputs": [
    {
     "data": {
      "text/plain": [
       "{1, 2, 3, 4}"
      ]
     },
     "execution_count": 30,
     "metadata": {},
     "output_type": "execute_result"
    }
   ],
   "source": [
    "li = [1,2,3,4,2,1,2,3,4]\n",
    "u = set(li)\n",
    "u"
   ]
  },
  {
   "cell_type": "code",
   "execution_count": null,
   "metadata": {},
   "outputs": [],
   "source": [
    "### Function Programming Longuages\n",
    "   # Object Oriented : Java\n",
    "  # Procedural : C\n",
    "  # Scripting : PHP,Python,JavaScript,Shell,Pearl\n",
    "  # Functional : Python,Haskell,Scala\n",
    "  # Logic : Prolog,Lisp"
   ]
  },
  {
   "cell_type": "markdown",
   "metadata": {},
   "source": [
    "### Medium Test Problem\n",
    "### N consist of n Numbers"
   ]
  },
  {
   "cell_type": "code",
   "execution_count": 17,
   "metadata": {},
   "outputs": [
    {
     "name": "stdout",
     "output_type": "stream",
     "text": [
      "1 2 3\n",
      "1 2 4\n",
      "1 2 5\n",
      "1 2 6\n",
      "1 3 4\n",
      "1 3 5\n",
      "1 3 6\n",
      "1 4 5\n",
      "1 4 6\n",
      "1 5 6\n",
      "2 3 4\n",
      "2 3 5\n",
      "2 3 6\n",
      "2 4 5\n",
      "2 4 6\n",
      "2 5 6\n",
      "3 4 5\n",
      "3 4 6\n",
      "3 5 6\n",
      "4 5 6\n"
     ]
    }
   ],
   "source": [
    "# Function to print all combinations of  pairs of integers in a unique list\n",
    "#list [1,2,3]->(1,2)(1,3)(2,3)->3c2 means 3!/((3-2)!*2!)\n",
    "#[1,2,3,4]->(1,2)(1,3)(1,4)(2,3)(2,4)(3,4)\n",
    "#_>123,124\n",
    "def combinations(li):\n",
    "    for i in range(len(li)-1):\n",
    "        for j in range(i+1,len(li)):\n",
    "            for k in range(j+1,len(li)):\n",
    "                print(li[i],li[j],li[k])\n",
    "combinations([1,2,3,4,5,6])\n"
   ]
  },
  {
   "cell_type": "code",
   "execution_count": 7,
   "metadata": {},
   "outputs": [
    {
     "data": {
      "text/plain": [
       "[[1, 4], [1, 4, 3]]"
      ]
     },
     "execution_count": 7,
     "metadata": {},
     "output_type": "execute_result"
    }
   ],
   "source": [
    "#Klargest Difference Pairs\n",
    "# Function to identify differences of all pairs of number and add those differences\n",
    "#to the same list\n",
    "# function returns the  updated list and original list\n",
    "#abs is change the negative to possitive \n",
    "# [1,2,3] ->[1,2,3]\n",
    "\n",
    "            \n",
    "        \n",
    "def kLargestDifferencePairs(li):\n",
    "    cli = li[:]\n",
    "    newelements = []\n",
    "    for i in range(len(li)-1):\n",
    "        for j in range(i+1,len(li)):\n",
    "            d = abs(li[i]-li[j]) \n",
    "            if d not in li and d not in newelements:\n",
    "                newelements.append(d)\n",
    "    li.extend(newelements)\n",
    "    return [cli,li]\n",
    "li = [1,4]\n",
    "\n",
    "kLargestDifferencePairs(li)"
   ]
  },
  {
   "cell_type": "code",
   "execution_count": 8,
   "metadata": {},
   "outputs": [
    {
     "data": {
      "text/plain": [
       "8"
      ]
     },
     "execution_count": 8,
     "metadata": {},
     "output_type": "execute_result"
    }
   ],
   "source": [
    "#Medium value\n",
    "def medium(li,k):\n",
    "    #li3 = []\n",
    "    \n",
    "    while(True):\n",
    "        li3 = kLargestDifferencePairs(li)\n",
    "        if li3[0] == li3[1]:\n",
    "            break\n",
    "        \n",
    "    if len(li3[0]) >= k:\n",
    "        return sorted(li3[0],reverse=True)[k-1]\n",
    "    return -1\n",
    "medium([1,9],2)"
   ]
  },
  {
   "cell_type": "code",
   "execution_count": null,
   "metadata": {},
   "outputs": [],
   "source": [
    "#[4,8]\n",
    "#[20,40,60]\n",
    "#[4,8,12,16]===>These are constant array\n",
    "#Convert the list into an Arthemetic progression\n",
    "[3,8,15]\n",
    "\n",
    "[3,8,15,5,2,1,4,6,7,9,10,11,12,13,14]\n",
    "def medium(li,k):\n",
    "    #li3 = []\n",
    "    \n",
    "    while(True):\n",
    "        li3 = kLargestDifferencePairs(li)\n",
    "        if li3[0] == li3[1]:\n",
    "            break\n",
    "        \n",
    "    if len(li3[0]) >= k:\n",
    "        return sorted(li3[0],reverse=True)[k-1]\n",
    "    return -1\n",
    "medium([1,9],2)\n",
    "\n",
    "for i in range\n"
   ]
  },
  {
   "cell_type": "markdown",
   "metadata": {},
   "source": [
    "# List Comprehensions"
   ]
  },
  {
   "cell_type": "code",
   "execution_count": 31,
   "metadata": {},
   "outputs": [
    {
     "data": {
      "text/plain": [
       "[1, 2, 3, 4, 5, 6, 7, 8, 9, 10]"
      ]
     },
     "execution_count": 31,
     "metadata": {},
     "output_type": "execute_result"
    }
   ],
   "source": [
    "# List of N natual numbers in a list\n",
    "n=10\n",
    "li = []\n",
    "for i in range(1,n+1):\n",
    "    li.append(i)\n",
    "li\n",
    "    "
   ]
  },
  {
   "cell_type": "code",
   "execution_count": 32,
   "metadata": {},
   "outputs": [
    {
     "data": {
      "text/plain": [
       "[1, 2, 3, 4, 5, 6, 7, 8, 9, 10]"
      ]
     },
     "execution_count": 32,
     "metadata": {},
     "output_type": "execute_result"
    }
   ],
   "source": [
    "li = [ i for i in range (1,11)]\n",
    "li"
   ]
  },
  {
   "cell_type": "code",
   "execution_count": 34,
   "metadata": {},
   "outputs": [
    {
     "data": {
      "text/plain": [
       "[1, 8, 27, 64, 125, 216, 343, 512, 729, 1000]"
      ]
     },
     "execution_count": 34,
     "metadata": {},
     "output_type": "execute_result"
    }
   ],
   "source": [
    "#  Apply list comprehension to store the cubes on n natural numbers\n",
    "li = [i**3  for i in range(1,11)]\n",
    "li"
   ]
  },
  {
   "cell_type": "code",
   "execution_count": 37,
   "metadata": {},
   "outputs": [
    {
     "data": {
      "text/plain": [
       "[1, 4, 9, 16, 25, 36, 49, 64, 81, 100]"
      ]
     },
     "execution_count": 37,
     "metadata": {},
     "output_type": "execute_result"
    }
   ],
   "source": [
    "li = [i**2 for i in range(1,11)]\n",
    "li"
   ]
  },
  {
   "cell_type": "raw",
   "metadata": {},
   "source": [
    "### Function to calculate the factorial\n",
    "def factorial(n):\n",
    "    if n ==0 or n ==1:\n",
    "        return 1\n",
    "    return n* factorial(n-1)\n",
    "factorial(5)\n"
   ]
  },
  {
   "cell_type": "code",
   "execution_count": 39,
   "metadata": {},
   "outputs": [
    {
     "data": {
      "text/plain": [
       "[1, 2, 6, 24, 120]"
      ]
     },
     "execution_count": 39,
     "metadata": {},
     "output_type": "execute_result"
    }
   ],
   "source": [
    "### Apply list comprehension to calculate factorial of n natural numbers\n",
    "n=5\n",
    "factorialList = [factorial(i) for i in range(1,n+1)]\n",
    "factorialList"
   ]
  },
  {
   "cell_type": "code",
   "execution_count": 42,
   "metadata": {},
   "outputs": [
    {
     "data": {
      "text/plain": [
       "[1, 3, 6, 10, 15, 21]"
      ]
     },
     "execution_count": 42,
     "metadata": {},
     "output_type": "execute_result"
    }
   ],
   "source": [
    "# Store cumulative  sum of numbers to  n=3,[1,3,6]\n",
    "# n = 5 -> [1,3,6,,10,15]\n",
    "n=6\n",
    "cumulativeSum = [sum(range(1,i+1)) for i in range(1,n+1)]\n",
    "cumulativeSum"
   ]
  },
  {
   "cell_type": "code",
   "execution_count": 45,
   "metadata": {},
   "outputs": [
    {
     "data": {
      "text/plain": [
       "[1972, 1976, 1980, 1984, 1988, 1992, 1996, 2000, 2004, 2008, 2012, 2016]"
      ]
     },
     "execution_count": 45,
     "metadata": {},
     "output_type": "execute_result"
    }
   ],
   "source": [
    "# List Comprehension to store only leap years in a given time period\n",
    "st = 1970\n",
    "et = 2019\n",
    "# Output:leapYears = [1972,1976,1980.....2016]\n",
    "leapYears = [ i for i in range(st,et+1) if i%400 ==0 or (i%100!=0 and i%4==0)]\n",
    "leapYears\n"
   ]
  },
  {
   "cell_type": "code",
   "execution_count": 65,
   "metadata": {},
   "outputs": [
    {
     "data": {
      "text/plain": [
       "[1, 2, 3, 4, 5]"
      ]
     },
     "execution_count": 65,
     "metadata": {},
     "output_type": "execute_result"
    }
   ],
   "source": [
    "li = [1,2,3,2,1,4,4,5,5,5]\n",
    "li.sort()\n",
    "unique2=[]\n",
    "unique =[]\n",
    "#unique = [ li[i] for i in range(0,len(li)-1) if sorted(li)[i]!=sorted(li)[i+1] and i<len(li)-1)or i==len(li)-1]\n",
    "#unique = [unique2.append(i)for i in li if i not in unique2]\n",
    "[unique2.append(i) for i in li if i not in unique2]\n",
    "unique2"
   ]
  },
  {
   "cell_type": "code",
   "execution_count": 62,
   "metadata": {},
   "outputs": [
    {
     "data": {
      "text/plain": [
       "[1, 1, 2, 2, 3, 4, 4, 5, 5, 5, 6]"
      ]
     },
     "execution_count": 62,
     "metadata": {},
     "output_type": "execute_result"
    }
   ],
   "source": [
    "sorted(li)"
   ]
  },
  {
   "cell_type": "code",
   "execution_count": 55,
   "metadata": {},
   "outputs": [
    {
     "ename": "SyntaxError",
     "evalue": "invalid syntax (<ipython-input-55-f53761b03b32>, line 3)",
     "output_type": "error",
     "traceback": [
      "\u001b[1;36m  File \u001b[1;32m\"<ipython-input-55-f53761b03b32>\"\u001b[1;36m, line \u001b[1;32m3\u001b[0m\n\u001b[1;33m    unique = [i for i in unique if i in not unique]\u001b[0m\n\u001b[1;37m                                          ^\u001b[0m\n\u001b[1;31mSyntaxError\u001b[0m\u001b[1;31m:\u001b[0m invalid syntax\n"
     ]
    }
   ],
   "source": [
    "li = [1,2,3,2,1]\n",
    "unique = []\n",
    "unique = [i for i in unique if i in not unique]\n",
    "unique"
   ]
  },
  {
   "cell_type": "markdown",
   "metadata": {},
   "source": [
    "### Iterators\n",
    "   #### Iterable\n",
    "      --Strings\n",
    "      --Tuples\n",
    "      --Sets\n",
    "      -- Lists\n",
    "      --Dictionaries\n",
    "    --To convert iterable to iterator-->iter()\n",
    "    For Loop: can be stopped during a certain condition but a iterator can stop at any point if execution\n",
    "    Iterator:"
   ]
  },
  {
   "cell_type": "code",
   "execution_count": 69,
   "metadata": {},
   "outputs": [
    {
     "data": {
      "text/plain": [
       "'P'"
      ]
     },
     "execution_count": 69,
     "metadata": {},
     "output_type": "execute_result"
    }
   ],
   "source": [
    "it = iter('Python')#  It is iterable value it converting into  iterator\n",
    "next(it)\n"
   ]
  },
  {
   "cell_type": "code",
   "execution_count": 71,
   "metadata": {},
   "outputs": [
    {
     "data": {
      "text/plain": [
       "'y'"
      ]
     },
     "execution_count": 71,
     "metadata": {},
     "output_type": "execute_result"
    }
   ],
   "source": [
    "it = iter('Python')\n",
    "next(it)\n",
    "next(it)"
   ]
  },
  {
   "cell_type": "code",
   "execution_count": 73,
   "metadata": {},
   "outputs": [
    {
     "name": "stdout",
     "output_type": "stream",
     "text": [
      "1: \n",
      "P\n",
      "\n",
      "\n",
      "2: \n",
      "y\n"
     ]
    }
   ],
   "source": [
    "it = iter('Python')\n",
    "print('1: ')\n",
    "print(next(it))\n",
    "print('\\n')\n",
    "print('2: ')\n",
    "print(next(it))\n",
    "    "
   ]
  },
  {
   "cell_type": "markdown",
   "metadata": {},
   "source": [
    "### Generators\n",
    "Generators is Function"
   ]
  },
  {
   "cell_type": "code",
   "execution_count": 80,
   "metadata": {},
   "outputs": [
    {
     "data": {
      "text/plain": [
       "512"
      ]
     },
     "execution_count": 80,
     "metadata": {},
     "output_type": "execute_result"
    }
   ],
   "source": [
    "def generator():\n",
    "    n = 2\n",
    "    yield n\n",
    "    n = n**3\n",
    "    yield n\n",
    "    n = n**3\n",
    "    yield n\n",
    "a = generator()\n",
    "next(a)\n",
    "next(a)\n",
    "next(a)"
   ]
  },
  {
   "cell_type": "code",
   "execution_count": 84,
   "metadata": {},
   "outputs": [
    {
     "data": {
      "text/plain": [
       "8"
      ]
     },
     "execution_count": 84,
     "metadata": {},
     "output_type": "execute_result"
    }
   ],
   "source": [
    "def generator():\n",
    "    n = 2\n",
    "    for i in range(1,5):\n",
    "        yield n\n",
    "        n**=3\n",
    "        yield n\n",
    "    \n",
    "a = generator()\n",
    "next(a)\n",
    "next(a)\n"
   ]
  },
  {
   "cell_type": "code",
   "execution_count": 85,
   "metadata": {},
   "outputs": [
    {
     "data": {
      "text/plain": [
       "512"
      ]
     },
     "execution_count": 85,
     "metadata": {},
     "output_type": "execute_result"
    }
   ],
   "source": [
    "def generator():\n",
    "    n = 2\n",
    "    for i in range(1,5):\n",
    "        yield n\n",
    "        n**=3\n",
    "        yield n\n",
    "    \n",
    "a = generator()\n",
    "next(a)\n",
    "b = next (a) ** 2\n",
    "b *=next(a)\n",
    "b"
   ]
  },
  {
   "cell_type": "code",
   "execution_count": 86,
   "metadata": {},
   "outputs": [
    {
     "name": "stdout",
     "output_type": "stream",
     "text": [
      "2\n",
      "8\n",
      "8\n",
      "512\n",
      "512\n"
     ]
    }
   ],
   "source": [
    "def generator():\n",
    "    n = 2\n",
    "    for i in range(1,5):\n",
    "        yield n\n",
    "        n**=3\n",
    "        yield n\n",
    "    \n",
    "a = generator()\n",
    "for i in range(5):\n",
    "    print(next(a))"
   ]
  },
  {
   "cell_type": "code",
   "execution_count": 89,
   "metadata": {},
   "outputs": [
    {
     "name": "stdout",
     "output_type": "stream",
     "text": [
      "8\n",
      "512\n",
      "134217728\n",
      "2417851639229258349412352\n",
      "14134776518227074636666380005943348126619871175004951664972849610340958208\n"
     ]
    }
   ],
   "source": [
    "def generator():\n",
    "    n = 2\n",
    "    while True:\n",
    "        \n",
    "        n**=3\n",
    "        yield n\n",
    "    \n",
    "a = generator()\n",
    "for i in range(5):\n",
    "    print(next(a))"
   ]
  },
  {
   "cell_type": "code",
   "execution_count": null,
   "metadata": {},
   "outputs": [],
   "source": []
  }
 ],
 "metadata": {
  "kernelspec": {
   "display_name": "Python 3",
   "language": "python",
   "name": "python3"
  },
  "language_info": {
   "codemirror_mode": {
    "name": "ipython",
    "version": 3
   },
   "file_extension": ".py",
   "mimetype": "text/x-python",
   "name": "python",
   "nbconvert_exporter": "python",
   "pygments_lexer": "ipython3",
   "version": "3.7.3"
  }
 },
 "nbformat": 4,
 "nbformat_minor": 2
}
