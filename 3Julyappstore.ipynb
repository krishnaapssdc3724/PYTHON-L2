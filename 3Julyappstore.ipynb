{
 "cells": [
  {
   "cell_type": "code",
   "execution_count": 24,
   "metadata": {},
   "outputs": [
    {
     "data": {
      "text/plain": [
       "Index(['Unnamed: 0', 'id', 'track_name', 'size_bytes', 'currency', 'price',\n",
       "       'rating_count_tot', 'rating_count_ver', 'user_rating',\n",
       "       'user_rating_ver', 'ver', 'cont_rating', 'prime_genre',\n",
       "       'sup_devices.num', 'ipadSc_urls.num', 'lang.num', 'vpp_lic'],\n",
       "      dtype='object')"
      ]
     },
     "execution_count": 24,
     "metadata": {},
     "output_type": "execute_result"
    }
   ],
   "source": [
    "# Problem Set\n",
    "# App Store Dataset\n",
    "# List of all unique Prime_Genres(categories) in the dataset\n",
    "# Category with highest number of apps\n",
    "# Category with lowest number of apps\n",
    "# Category with highest user rating\n",
    "# App with highest downloads\n",
    "# Category with highest average rating count\n",
    "# Average user rating for free apps\n",
    "# Average user rating for paid apps\n",
    "# Category with highest average user rating for paid apps\n",
    "# Most frequent Price point > 0\n",
    "# Compare average user rating for paid vs free gaming apps\n",
    "appdf.columns"
   ]
  },
  {
   "cell_type": "code",
   "execution_count": 2,
   "metadata": {},
   "outputs": [
    {
     "data": {
      "text/plain": [
       "1"
      ]
     },
     "execution_count": 2,
     "metadata": {},
     "output_type": "execute_result"
    }
   ],
   "source": [
    "# Data Set Up\n",
    "import pandas as pd\n",
    "def getColIndex(df,columnKey):\n",
    "    columns = appdf.columns\n",
    "    for i in range(len(columns)):\n",
    "        if columns[i] == columnKey:\n",
    "            return i\n",
    "appdf = pd.read_csv('krishna/appstore.csv')\n",
    "getColIndex(appdf,'id')\n"
   ]
  },
  {
   "cell_type": "code",
   "execution_count": 7,
   "metadata": {},
   "outputs": [
    {
     "data": {
      "text/plain": [
       "['Games',\n",
       " 'Productivity',\n",
       " 'Weather',\n",
       " 'Shopping',\n",
       " 'Reference',\n",
       " 'Finance',\n",
       " 'Music',\n",
       " 'Utilities',\n",
       " 'Travel',\n",
       " 'Social Networking',\n",
       " 'Sports',\n",
       " 'Business',\n",
       " 'Health & Fitness',\n",
       " 'Entertainment',\n",
       " 'Photo & Video',\n",
       " 'Navigation',\n",
       " 'Education',\n",
       " 'Lifestyle',\n",
       " 'Food & Drink',\n",
       " 'News',\n",
       " 'Book',\n",
       " 'Medical',\n",
       " 'Catalogs']"
      ]
     },
     "execution_count": 7,
     "metadata": {},
     "output_type": "execute_result"
    }
   ],
   "source": [
    "# List of all unique Prime_Genres(categories) in the dataset\n",
    "list(appdf['prime_genre'].unique())"
   ]
  },
  {
   "cell_type": "code",
   "execution_count": 3,
   "metadata": {},
   "outputs": [
    {
     "data": {
      "text/plain": [
       "'Games'"
      ]
     },
     "execution_count": 3,
     "metadata": {},
     "output_type": "execute_result"
    }
   ],
   "source": [
    "# Category with highest number of apps\n",
    "def countRows(df):\n",
    "    columnIndex = getColIndex(df,'prime_genre')\n",
    "    l = list(appdf['prime_genre'].unique())\n",
    "    d = {}\n",
    "    for i in l:\n",
    "        count = 0\n",
    "        for row in df.values:\n",
    "            if row[columnIndex] == i:\n",
    "                count+=1\n",
    "        d[i] = count\n",
    "    max_apps = max(d.values())\n",
    "    \n",
    "    for i in d.items():\n",
    "        if i[1] == max_apps:\n",
    "            return i[0]\n",
    "    \n",
    "\n",
    "countRows(appdf)\n",
    "        \n",
    "    "
   ]
  },
  {
   "cell_type": "code",
   "execution_count": 4,
   "metadata": {},
   "outputs": [
    {
     "data": {
      "text/plain": [
       "'Catalogs'"
      ]
     },
     "execution_count": 4,
     "metadata": {},
     "output_type": "execute_result"
    }
   ],
   "source": [
    "# Category with lowest number of apps\n",
    "def countRowsLowest(df):\n",
    "    columnIndex = getColIndex(df,'prime_genre')\n",
    "    l = list(appdf['prime_genre'].unique())\n",
    "    d = {}\n",
    "    for i in l:\n",
    "        count = 0\n",
    "        for row in df.values:\n",
    "            if row[columnIndex] == i:\n",
    "                count+=1\n",
    "        d[i] = count\n",
    "    max_apps = min(d.values())\n",
    "    \n",
    "    for i in d.items():\n",
    "        if i[1] == max_apps:\n",
    "            return i[0]\n",
    "    \n",
    "\n",
    "countRowsLowest(appdf)"
   ]
  },
  {
   "cell_type": "code",
   "execution_count": 30,
   "metadata": {},
   "outputs": [
    {
     "name": "stdout",
     "output_type": "stream",
     "text": [
      "Games,Productivity,Weather,Shopping,Reference,Finance,Music,Utilities,Travel,Social Networking,Sports,Business,Health & Fitness,Entertainment,Photo & Video,Navigation,Education,Lifestyle,Food & Drink,News,Book,Medical,Catalogs,Has the highest rating\n"
     ]
    }
   ],
   "source": [
    "# Category with highest user rating\n",
    "def categoryUserHighRating(df):\n",
    "    \n",
    "    l = list(df['prime_genre'].unique())\n",
    "    columnIndex = getColIndex(df,'prime_genre')\n",
    "    rating_index = getColIndex(df,'user_rating')\n",
    "    d = {}\n",
    "    for i in l:\n",
    "        max_rating = 0\n",
    "        for row in df.values:\n",
    "            if row[columnIndex] == i:\n",
    "                if max_rating < row[rating_index]:\n",
    "                    max_rating = row[rating_index]\n",
    "        d[i] = max_rating\n",
    "    return d\n",
    "\n",
    "d = categoryUserHighRating(appdf)\n",
    "max_rating = max(d.values())\n",
    "for i in d.items():\n",
    "    if i[1] == max_rating:\n",
    "        print(i[0],end = \",\")\n",
    "print(\"Has the highest rating\")"
   ]
  },
  {
   "cell_type": "code",
   "execution_count": 5,
   "metadata": {},
   "outputs": [
    {
     "data": {
      "text/plain": [
       "'Facebook'"
      ]
     },
     "execution_count": 5,
     "metadata": {},
     "output_type": "execute_result"
    }
   ],
   "source": [
    "def highestDownloads(df):\n",
    "    rating_count_index = getColIndex(df,'rating_count_tot')\n",
    "    track_name_index = getColIndex(df,'track_name')\n",
    "    t_name = \"\"\n",
    "    r_count = 0\n",
    "    for row in df.values:\n",
    "        if r_count < row[rating_count_index]:\n",
    "            r_count = row[rating_count_index]\n",
    "            t_name = row[track_name_index]\n",
    "    return t_name\n",
    "\n",
    "highestDownloads(appdf)"
   ]
  },
  {
   "cell_type": "code",
   "execution_count": 37,
   "metadata": {},
   "outputs": [
    {
     "name": "stdout",
     "output_type": "stream",
     "text": [
      "Social Networking\n"
     ]
    }
   ],
   "source": [
    "# Category with highest average rating count\n",
    "def categoryUserAvgRating(df):\n",
    "    l = list(df['prime_genre'].unique())\n",
    "    columnIndex = getColIndex(df,'prime_genre')\n",
    "    rating_index = getColIndex(df,'rating_count_tot')\n",
    "    d = {}\n",
    "    for i in l:\n",
    "        max_rating = 0\n",
    "        tot = 0\n",
    "        for row in df.values:\n",
    "            if row[columnIndex] == i:\n",
    "                max_rating += row[rating_index]\n",
    "                tot= tot+1\n",
    "        d[i] = max_rating/tot\n",
    "    return d\n",
    "d = categoryUserAvgRating(appdf)\n",
    "max_rating = max(d.values())\n",
    "for i in d.items():\n",
    "    if i[1] == max_rating:\n",
    "        print(i[0])"
   ]
  },
  {
   "cell_type": "code",
   "execution_count": 6,
   "metadata": {},
   "outputs": [
    {
     "data": {
      "text/plain": [
       "3.3767258382642997"
      ]
     },
     "execution_count": 6,
     "metadata": {},
     "output_type": "execute_result"
    }
   ],
   "source": [
    "# Average user rating for free apps\n",
    "def userRatingAvgFree(df):\n",
    "    columnIndex = getColIndex(df,'price')\n",
    "    user_rating_index = getColIndex(df,'user_rating')\n",
    "    tot_rating = 0\n",
    "    tot_free = 0\n",
    "    for row in df.values:\n",
    "        if row[columnIndex] == 0:\n",
    "            tot_rating += row[user_rating_index]\n",
    "            tot_free+=1\n",
    "    return tot_rating/tot_free\n",
    "userRatingAvgFree(appdf)"
   ]
  },
  {
   "cell_type": "code",
   "execution_count": 40,
   "metadata": {},
   "outputs": [
    {
     "data": {
      "text/plain": [
       "3.720948742438714"
      ]
     },
     "execution_count": 40,
     "metadata": {},
     "output_type": "execute_result"
    }
   ],
   "source": [
    "# Average user rating for paid apps\n",
    "def userRatingAvgPaid(df):\n",
    "    columnIndex = getColIndex(df,'price')\n",
    "    user_rating_index = getColIndex(df,'user_rating')\n",
    "    tot_rating = 0\n",
    "    tot_free = 0\n",
    "    for row in df.values:\n",
    "        if row[columnIndex] > 0:\n",
    "            tot_rating += row[user_rating_index]\n",
    "            tot_free+=1\n",
    "    return tot_rating/tot_free\n",
    "userRatingAvgPaid(appdf)"
   ]
  },
  {
   "cell_type": "code",
   "execution_count": 7,
   "metadata": {},
   "outputs": [
    {
     "name": "stdout",
     "output_type": "stream",
     "text": [
      "Shopping\n",
      "Catalogs\n"
     ]
    }
   ],
   "source": [
    "# Category with highest average user rating for paid apps\n",
    "def cat_with_highest_avg_user_rating_paid(df):\n",
    "    l = list(df['prime_genre'].unique())\n",
    "    columnIndex = getColIndex(df,'prime_genre')\n",
    "    priceIndex = getColIndex(df,'price')\n",
    "    rating_index = getColIndex(df,'user_rating')\n",
    "    d = {}\n",
    "    for i in l:\n",
    "        max_rating = 0\n",
    "        tot = 0\n",
    "        for row in df.values:\n",
    "            if row[columnIndex] == i and row[priceIndex]>0:\n",
    "                max_rating += row[rating_index]\n",
    "                tot= tot+1\n",
    "        d[i] = max_rating/tot\n",
    "    return d\n",
    "\n",
    "d = cat_with_highest_avg_user_rating_paid(appdf)\n",
    "d\n",
    "max_rating = max(d.values())\n",
    "for i in d.items():\n",
    "    if i[1] == max_rating:\n",
    "        print(i[0])"
   ]
  },
  {
   "cell_type": "code",
   "execution_count": 61,
   "metadata": {},
   "outputs": [
    {
     "name": "stdout",
     "output_type": "stream",
     "text": [
      "0.99\n"
     ]
    }
   ],
   "source": [
    "# Most frequent Price point > 0\n",
    "def mostFreqPricePoint(df):\n",
    "    priceIndex = getColIndex(df,'price')\n",
    "    d = []\n",
    "    for row in df.values:\n",
    "        if row[priceIndex] > 0:\n",
    "            d.append(row[priceIndex])\n",
    "    return d\n",
    "d = mostFreqPricePoint(appdf)\n",
    "count = {}\n",
    "for i in d:\n",
    "    c = d.count(i)\n",
    "    count[i]  = c\n",
    "max_values = max(count.values())\n",
    "for i in count.items():\n",
    "    if i[1] == max_values:\n",
    "        print(i[0])"
   ]
  },
  {
   "cell_type": "code",
   "execution_count": 65,
   "metadata": {},
   "outputs": [
    {
     "name": "stdout",
     "output_type": "stream",
     "text": [
      "Paid Games Apps Avg User Rating =  3.9049844236760123\n",
      "Free Games Apps Avg User Rating =  3.5285777580859548\n"
     ]
    }
   ],
   "source": [
    "# Compare average user rating for paid vs free gaming apps\n",
    "def compare(df):\n",
    "    priceIndex = getColIndex(df,'price') \n",
    "    columnIndex = getColIndex(df,'prime_genre')\n",
    "    usr_rat_ind = getColIndex(df,'user_rating')\n",
    "    avg_usr_rat_paid = 0\n",
    "    total_paid = 0\n",
    "    avg_usr_rat_free = 0\n",
    "    total_free = 0\n",
    "    for row in df.values:\n",
    "        if row[priceIndex] > 0 and row[columnIndex] == 'Games':\n",
    "            avg_usr_rat_paid +=  row[usr_rat_ind]\n",
    "            total_paid += 1\n",
    "    avg_usr_rat_paid = avg_usr_rat_paid/total_paid\n",
    "    for row in df.values:\n",
    "        if row[priceIndex] == 0 and row[columnIndex] == 'Games':\n",
    "            avg_usr_rat_free +=  row[usr_rat_ind]\n",
    "            total_free += 1\n",
    "    avg_usr_rat_free = avg_usr_rat_free/total_free\n",
    "    return avg_usr_rat_paid, avg_usr_rat_free\n",
    "l = compare(appdf)\n",
    "print(\"Paid Games Apps Avg User Rating = \",l[0])\n",
    "print(\"Free Games Apps Avg User Rating = \",l[1])"
   ]
  },
  {
   "cell_type": "code",
   "execution_count": null,
   "metadata": {},
   "outputs": [],
   "source": []
  }
 ],
 "metadata": {
  "kernelspec": {
   "display_name": "Python 3",
   "language": "python",
   "name": "python3"
  },
  "language_info": {
   "codemirror_mode": {
    "name": "ipython",
    "version": 3
   },
   "file_extension": ".py",
   "mimetype": "text/x-python",
   "name": "python",
   "nbconvert_exporter": "python",
   "pygments_lexer": "ipython3",
   "version": "3.7.3"
  }
 },
 "nbformat": 4,
 "nbformat_minor": 2
}
